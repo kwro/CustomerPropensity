{
 "cells": [
  {
   "cell_type": "code",
   "execution_count": 1,
   "id": "3a9300f8",
   "metadata": {},
   "outputs": [],
   "source": [
    "import pandas as pd\n",
    "import numpy as np\n",
    "import random\n",
    "import matplotlib.pyplot as plt\n",
    "from tqdm import tqdm\n",
    "\n",
    "import seaborn as sns\n",
    "import matplotlib.pyplot as plt"
   ]
  },
  {
   "cell_type": "code",
   "execution_count": 2,
   "id": "4fdc8c38",
   "metadata": {},
   "outputs": [],
   "source": [
    "import warnings\n",
    "warnings.filterwarnings('ignore')"
   ]
  },
  {
   "cell_type": "code",
   "execution_count": 5,
   "id": "3e7b411f",
   "metadata": {},
   "outputs": [
    {
     "data": {
      "text/html": [
       "<div>\n",
       "<style scoped>\n",
       "    .dataframe tbody tr th:only-of-type {\n",
       "        vertical-align: middle;\n",
       "    }\n",
       "\n",
       "    .dataframe tbody tr th {\n",
       "        vertical-align: top;\n",
       "    }\n",
       "\n",
       "    .dataframe thead th {\n",
       "        text-align: right;\n",
       "    }\n",
       "</style>\n",
       "<table border=\"1\" class=\"dataframe\">\n",
       "  <thead>\n",
       "    <tr style=\"text-align: right;\">\n",
       "      <th></th>\n",
       "      <th>basket_icon_click</th>\n",
       "      <th>basket_add_list</th>\n",
       "      <th>basket_add_detail</th>\n",
       "      <th>sort_by</th>\n",
       "      <th>image_picker</th>\n",
       "      <th>account_page_click</th>\n",
       "      <th>promo_banner_click</th>\n",
       "      <th>detail_wishlist_add</th>\n",
       "      <th>list_size_dropdown</th>\n",
       "      <th>closed_minibasket_click</th>\n",
       "      <th>...</th>\n",
       "      <th>saw_sizecharts</th>\n",
       "      <th>saw_delivery</th>\n",
       "      <th>saw_account_upgrade</th>\n",
       "      <th>saw_homepage</th>\n",
       "      <th>device_mobile</th>\n",
       "      <th>device_computer</th>\n",
       "      <th>device_tablet</th>\n",
       "      <th>returning_user</th>\n",
       "      <th>loc_uk</th>\n",
       "      <th>ordered</th>\n",
       "    </tr>\n",
       "    <tr>\n",
       "      <th>UserID</th>\n",
       "      <th></th>\n",
       "      <th></th>\n",
       "      <th></th>\n",
       "      <th></th>\n",
       "      <th></th>\n",
       "      <th></th>\n",
       "      <th></th>\n",
       "      <th></th>\n",
       "      <th></th>\n",
       "      <th></th>\n",
       "      <th></th>\n",
       "      <th></th>\n",
       "      <th></th>\n",
       "      <th></th>\n",
       "      <th></th>\n",
       "      <th></th>\n",
       "      <th></th>\n",
       "      <th></th>\n",
       "      <th></th>\n",
       "      <th></th>\n",
       "      <th></th>\n",
       "    </tr>\n",
       "  </thead>\n",
       "  <tbody>\n",
       "    <tr>\n",
       "      <th>a720-6b732349-a720-4862-bd21-644732</th>\n",
       "      <td>0</td>\n",
       "      <td>0</td>\n",
       "      <td>0</td>\n",
       "      <td>0</td>\n",
       "      <td>0</td>\n",
       "      <td>0</td>\n",
       "      <td>0</td>\n",
       "      <td>0</td>\n",
       "      <td>0</td>\n",
       "      <td>0</td>\n",
       "      <td>...</td>\n",
       "      <td>0</td>\n",
       "      <td>0</td>\n",
       "      <td>0</td>\n",
       "      <td>0</td>\n",
       "      <td>1</td>\n",
       "      <td>0</td>\n",
       "      <td>0</td>\n",
       "      <td>0</td>\n",
       "      <td>1</td>\n",
       "      <td>0</td>\n",
       "    </tr>\n",
       "    <tr>\n",
       "      <th>a0c0-6b73247c-a0c0-4bd9-8baa-797356</th>\n",
       "      <td>0</td>\n",
       "      <td>0</td>\n",
       "      <td>0</td>\n",
       "      <td>0</td>\n",
       "      <td>0</td>\n",
       "      <td>0</td>\n",
       "      <td>0</td>\n",
       "      <td>0</td>\n",
       "      <td>0</td>\n",
       "      <td>0</td>\n",
       "      <td>...</td>\n",
       "      <td>0</td>\n",
       "      <td>0</td>\n",
       "      <td>0</td>\n",
       "      <td>0</td>\n",
       "      <td>1</td>\n",
       "      <td>0</td>\n",
       "      <td>0</td>\n",
       "      <td>0</td>\n",
       "      <td>1</td>\n",
       "      <td>0</td>\n",
       "    </tr>\n",
       "  </tbody>\n",
       "</table>\n",
       "<p>2 rows × 24 columns</p>\n",
       "</div>"
      ],
      "text/plain": [
       "                                     basket_icon_click  basket_add_list  \\\n",
       "UserID                                                                    \n",
       "a720-6b732349-a720-4862-bd21-644732                  0                0   \n",
       "a0c0-6b73247c-a0c0-4bd9-8baa-797356                  0                0   \n",
       "\n",
       "                                     basket_add_detail  sort_by  image_picker  \\\n",
       "UserID                                                                          \n",
       "a720-6b732349-a720-4862-bd21-644732                  0        0             0   \n",
       "a0c0-6b73247c-a0c0-4bd9-8baa-797356                  0        0             0   \n",
       "\n",
       "                                     account_page_click  promo_banner_click  \\\n",
       "UserID                                                                        \n",
       "a720-6b732349-a720-4862-bd21-644732                   0                   0   \n",
       "a0c0-6b73247c-a0c0-4bd9-8baa-797356                   0                   0   \n",
       "\n",
       "                                     detail_wishlist_add  list_size_dropdown  \\\n",
       "UserID                                                                         \n",
       "a720-6b732349-a720-4862-bd21-644732                    0                   0   \n",
       "a0c0-6b73247c-a0c0-4bd9-8baa-797356                    0                   0   \n",
       "\n",
       "                                     closed_minibasket_click  ...  \\\n",
       "UserID                                                        ...   \n",
       "a720-6b732349-a720-4862-bd21-644732                        0  ...   \n",
       "a0c0-6b73247c-a0c0-4bd9-8baa-797356                        0  ...   \n",
       "\n",
       "                                     saw_sizecharts  saw_delivery  \\\n",
       "UserID                                                              \n",
       "a720-6b732349-a720-4862-bd21-644732               0             0   \n",
       "a0c0-6b73247c-a0c0-4bd9-8baa-797356               0             0   \n",
       "\n",
       "                                     saw_account_upgrade  saw_homepage  \\\n",
       "UserID                                                                   \n",
       "a720-6b732349-a720-4862-bd21-644732                    0             0   \n",
       "a0c0-6b73247c-a0c0-4bd9-8baa-797356                    0             0   \n",
       "\n",
       "                                     device_mobile  device_computer  \\\n",
       "UserID                                                                \n",
       "a720-6b732349-a720-4862-bd21-644732              1                0   \n",
       "a0c0-6b73247c-a0c0-4bd9-8baa-797356              1                0   \n",
       "\n",
       "                                     device_tablet  returning_user  loc_uk  \\\n",
       "UserID                                                                       \n",
       "a720-6b732349-a720-4862-bd21-644732              0               0       1   \n",
       "a0c0-6b73247c-a0c0-4bd9-8baa-797356              0               0       1   \n",
       "\n",
       "                                     ordered  \n",
       "UserID                                        \n",
       "a720-6b732349-a720-4862-bd21-644732        0  \n",
       "a0c0-6b73247c-a0c0-4bd9-8baa-797356        0  \n",
       "\n",
       "[2 rows x 24 columns]"
      ]
     },
     "execution_count": 5,
     "metadata": {},
     "output_type": "execute_result"
    }
   ],
   "source": [
    "train = pd.read_csv('../data/training_sample.csv', index_col=0)\n",
    "# test = pd.read_csv('testing_sample.csv', index_col=0)\n",
    "\n",
    "train.head(2)"
   ]
  },
  {
   "cell_type": "code",
   "execution_count": 262,
   "id": "e29d2783",
   "metadata": {},
   "outputs": [
    {
     "data": {
      "text/plain": [
       "((455401, 24), (151655, 24))"
      ]
     },
     "execution_count": 262,
     "metadata": {},
     "output_type": "execute_result"
    }
   ],
   "source": [
    "train.shape, test.shape"
   ]
  },
  {
   "cell_type": "code",
   "execution_count": 191,
   "id": "53efac89",
   "metadata": {},
   "outputs": [
    {
     "data": {
      "text/html": [
       "<div>\n",
       "<style scoped>\n",
       "    .dataframe tbody tr th:only-of-type {\n",
       "        vertical-align: middle;\n",
       "    }\n",
       "\n",
       "    .dataframe tbody tr th {\n",
       "        vertical-align: top;\n",
       "    }\n",
       "\n",
       "    .dataframe thead th {\n",
       "        text-align: right;\n",
       "    }\n",
       "</style>\n",
       "<table border=\"1\" class=\"dataframe\">\n",
       "  <thead>\n",
       "    <tr style=\"text-align: right;\">\n",
       "      <th></th>\n",
       "      <th>basket_icon_click</th>\n",
       "      <th>basket_add_list</th>\n",
       "      <th>basket_add_detail</th>\n",
       "      <th>sort_by</th>\n",
       "      <th>image_picker</th>\n",
       "      <th>account_page_click</th>\n",
       "      <th>promo_banner_click</th>\n",
       "      <th>detail_wishlist_add</th>\n",
       "      <th>list_size_dropdown</th>\n",
       "      <th>closed_minibasket_click</th>\n",
       "      <th>...</th>\n",
       "      <th>saw_sizecharts</th>\n",
       "      <th>saw_delivery</th>\n",
       "      <th>saw_account_upgrade</th>\n",
       "      <th>saw_homepage</th>\n",
       "      <th>device_mobile</th>\n",
       "      <th>device_computer</th>\n",
       "      <th>device_tablet</th>\n",
       "      <th>returning_user</th>\n",
       "      <th>loc_uk</th>\n",
       "      <th>ordered</th>\n",
       "    </tr>\n",
       "    <tr>\n",
       "      <th>UserID</th>\n",
       "      <th></th>\n",
       "      <th></th>\n",
       "      <th></th>\n",
       "      <th></th>\n",
       "      <th></th>\n",
       "      <th></th>\n",
       "      <th></th>\n",
       "      <th></th>\n",
       "      <th></th>\n",
       "      <th></th>\n",
       "      <th></th>\n",
       "      <th></th>\n",
       "      <th></th>\n",
       "      <th></th>\n",
       "      <th></th>\n",
       "      <th></th>\n",
       "      <th></th>\n",
       "      <th></th>\n",
       "      <th></th>\n",
       "      <th></th>\n",
       "      <th></th>\n",
       "    </tr>\n",
       "  </thead>\n",
       "  <tbody>\n",
       "    <tr>\n",
       "      <th>9d24-25k4-47889d24-25k4-494b-398124</th>\n",
       "      <td>0</td>\n",
       "      <td>0</td>\n",
       "      <td>0</td>\n",
       "      <td>0</td>\n",
       "      <td>0</td>\n",
       "      <td>0</td>\n",
       "      <td>0</td>\n",
       "      <td>0</td>\n",
       "      <td>0</td>\n",
       "      <td>0</td>\n",
       "      <td>...</td>\n",
       "      <td>0</td>\n",
       "      <td>0</td>\n",
       "      <td>0</td>\n",
       "      <td>0</td>\n",
       "      <td>1</td>\n",
       "      <td>0</td>\n",
       "      <td>0</td>\n",
       "      <td>0</td>\n",
       "      <td>1</td>\n",
       "      <td>0</td>\n",
       "    </tr>\n",
       "    <tr>\n",
       "      <th>7732-1k58-47887732-1k58-4475-679678</th>\n",
       "      <td>0</td>\n",
       "      <td>0</td>\n",
       "      <td>0</td>\n",
       "      <td>0</td>\n",
       "      <td>0</td>\n",
       "      <td>0</td>\n",
       "      <td>0</td>\n",
       "      <td>0</td>\n",
       "      <td>0</td>\n",
       "      <td>0</td>\n",
       "      <td>...</td>\n",
       "      <td>0</td>\n",
       "      <td>0</td>\n",
       "      <td>0</td>\n",
       "      <td>0</td>\n",
       "      <td>1</td>\n",
       "      <td>0</td>\n",
       "      <td>0</td>\n",
       "      <td>0</td>\n",
       "      <td>1</td>\n",
       "      <td>0</td>\n",
       "    </tr>\n",
       "  </tbody>\n",
       "</table>\n",
       "<p>2 rows × 24 columns</p>\n",
       "</div>"
      ],
      "text/plain": [
       "                                     basket_icon_click  basket_add_list  \\\n",
       "UserID                                                                    \n",
       "9d24-25k4-47889d24-25k4-494b-398124                  0                0   \n",
       "7732-1k58-47887732-1k58-4475-679678                  0                0   \n",
       "\n",
       "                                     basket_add_detail  sort_by  image_picker  \\\n",
       "UserID                                                                          \n",
       "9d24-25k4-47889d24-25k4-494b-398124                  0        0             0   \n",
       "7732-1k58-47887732-1k58-4475-679678                  0        0             0   \n",
       "\n",
       "                                     account_page_click  promo_banner_click  \\\n",
       "UserID                                                                        \n",
       "9d24-25k4-47889d24-25k4-494b-398124                   0                   0   \n",
       "7732-1k58-47887732-1k58-4475-679678                   0                   0   \n",
       "\n",
       "                                     detail_wishlist_add  list_size_dropdown  \\\n",
       "UserID                                                                         \n",
       "9d24-25k4-47889d24-25k4-494b-398124                    0                   0   \n",
       "7732-1k58-47887732-1k58-4475-679678                    0                   0   \n",
       "\n",
       "                                     closed_minibasket_click  ...  \\\n",
       "UserID                                                        ...   \n",
       "9d24-25k4-47889d24-25k4-494b-398124                        0  ...   \n",
       "7732-1k58-47887732-1k58-4475-679678                        0  ...   \n",
       "\n",
       "                                     saw_sizecharts  saw_delivery  \\\n",
       "UserID                                                              \n",
       "9d24-25k4-47889d24-25k4-494b-398124               0             0   \n",
       "7732-1k58-47887732-1k58-4475-679678               0             0   \n",
       "\n",
       "                                     saw_account_upgrade  saw_homepage  \\\n",
       "UserID                                                                   \n",
       "9d24-25k4-47889d24-25k4-494b-398124                    0             0   \n",
       "7732-1k58-47887732-1k58-4475-679678                    0             0   \n",
       "\n",
       "                                     device_mobile  device_computer  \\\n",
       "UserID                                                                \n",
       "9d24-25k4-47889d24-25k4-494b-398124              1                0   \n",
       "7732-1k58-47887732-1k58-4475-679678              1                0   \n",
       "\n",
       "                                     device_tablet  returning_user  loc_uk  \\\n",
       "UserID                                                                       \n",
       "9d24-25k4-47889d24-25k4-494b-398124              0               0       1   \n",
       "7732-1k58-47887732-1k58-4475-679678              0               0       1   \n",
       "\n",
       "                                     ordered  \n",
       "UserID                                        \n",
       "9d24-25k4-47889d24-25k4-494b-398124        0  \n",
       "7732-1k58-47887732-1k58-4475-679678        0  \n",
       "\n",
       "[2 rows x 24 columns]"
      ]
     },
     "execution_count": 191,
     "metadata": {},
     "output_type": "execute_result"
    }
   ],
   "source": [
    "test = pd.read_csv('testing_sample.csv', index_col=0)\n",
    "test.head(2)"
   ]
  },
  {
   "cell_type": "code",
   "execution_count": 246,
   "id": "1a075e55",
   "metadata": {},
   "outputs": [],
   "source": [
    "test.iloc[:, :-1].reset_index().to_csv('data/prediction_input.csv', index=False)"
   ]
  },
  {
   "cell_type": "code",
   "execution_count": 6,
   "id": "7f1a5339",
   "metadata": {},
   "outputs": [],
   "source": [
    "X = train.iloc[:, :-1]\n",
    "y = train.iloc[:, -1]"
   ]
  },
  {
   "cell_type": "code",
   "execution_count": 5,
   "id": "0dcb75a2",
   "metadata": {},
   "outputs": [
    {
     "data": {
      "text/plain": [
       "0    436308\n",
       "1     19093\n",
       "Name: ordered, dtype: int64"
      ]
     },
     "execution_count": 5,
     "metadata": {},
     "output_type": "execute_result"
    }
   ],
   "source": [
    "# check if unbalanced\n",
    "train.ordered.value_counts()\n",
    "# unbalanced sample"
   ]
  },
  {
   "cell_type": "code",
   "execution_count": 7,
   "id": "6b429669",
   "metadata": {},
   "outputs": [
    {
     "data": {
      "text/plain": [
       "23"
      ]
     },
     "execution_count": 7,
     "metadata": {},
     "output_type": "execute_result"
    }
   ],
   "source": [
    "# unbalanced sample\n",
    "v = train.ordered.value_counts()\n",
    "share_1_0 = int(round(v[0] / v[1],0))\n",
    "share_1_0"
   ]
  },
  {
   "cell_type": "code",
   "execution_count": 7,
   "id": "ea8d5f91",
   "metadata": {},
   "outputs": [],
   "source": [
    "X_1 = X.loc[y[y.values==1].index]\n",
    "X_0 = X.loc[y[y.values==0].index]\n",
    "\n",
    "y_1 = y[y.values==1]\n",
    "y_0 = y[y.values==0]"
   ]
  },
  {
   "cell_type": "code",
   "execution_count": 37,
   "id": "92e498b4",
   "metadata": {},
   "outputs": [
    {
     "data": {
      "text/plain": [
       "'455401.0000'"
      ]
     },
     "execution_count": 37,
     "metadata": {},
     "output_type": "execute_result"
    }
   ],
   "source": [
    "'{:.4f}'.format(y.shape[0])"
   ]
  },
  {
   "cell_type": "code",
   "execution_count": 35,
   "id": "4659d102",
   "metadata": {},
   "outputs": [
    {
     "ename": "AttributeError",
     "evalue": "'float' object has no attribute '2f'",
     "output_type": "error",
     "traceback": [
      "\u001b[0;31m---------------------------------------------------------------------------\u001b[0m",
      "\u001b[0;31mAttributeError\u001b[0m                            Traceback (most recent call last)",
      "Input \u001b[0;32mIn [35]\u001b[0m, in \u001b[0;36m<cell line: 1>\u001b[0;34m()\u001b[0m\n\u001b[0;32m----> 1\u001b[0m \u001b[38;5;124;43m\"\u001b[39;49m\u001b[38;5;124;43m{\u001b[39;49m\u001b[38;5;124;43m.2f}\u001b[39;49m\u001b[38;5;124;43m\"\u001b[39;49m\u001b[38;5;241;43m.\u001b[39;49m\u001b[43mformat\u001b[49m\u001b[43m(\u001b[49m\u001b[43my_1\u001b[49m\u001b[38;5;241;43m.\u001b[39;49m\u001b[43mshape\u001b[49m\u001b[43m[\u001b[49m\u001b[38;5;241;43m0\u001b[39;49m\u001b[43m]\u001b[49m\u001b[38;5;241;43m/\u001b[39;49m\u001b[43my\u001b[49m\u001b[38;5;241;43m.\u001b[39;49m\u001b[43mshape\u001b[49m\u001b[43m[\u001b[49m\u001b[38;5;241;43m0\u001b[39;49m\u001b[43m]\u001b[49m\u001b[43m)\u001b[49m\n",
      "\u001b[0;31mAttributeError\u001b[0m: 'float' object has no attribute '2f'"
     ]
    }
   ],
   "source": [
    "\"{.2f}\".format(y_1.shape[0]/y.shape[0])"
   ]
  },
  {
   "cell_type": "code",
   "execution_count": 9,
   "id": "32ac5911",
   "metadata": {},
   "outputs": [],
   "source": [
    "random.seed(42)\n",
    "samples = pd.Series(data = np.random.random_integers(0, share_1_0-1, X_0.shape[0]),\n",
    "            index = X_0.index)"
   ]
  },
  {
   "cell_type": "code",
   "execution_count": 39,
   "id": "3def8182",
   "metadata": {},
   "outputs": [],
   "source": [
    "from sklearn.model_selection import train_test_split\n",
    "\n",
    "from sklearn.linear_model import LogisticRegression, RidgeClassifier, PassiveAggressiveClassifier, SGDClassifier\n",
    "from sklearn.naive_bayes import GaussianNB\n",
    "from sklearn.ensemble import RandomForestClassifier, GradientBoostingClassifier, AdaBoostClassifier, VotingClassifier\n",
    "from sklearn.neighbors import KNeighborsClassifier\n",
    "from sklearn.svm import SVC\n",
    "from sklearn.tree import DecisionTreeClassifier\n",
    "\n",
    "from sklearn.model_selection import cross_val_score\n",
    "from sklearn.metrics import accuracy_score, classification_report, f1_score, confusion_matrix, log_loss, confusion_matrix"
   ]
  },
  {
   "cell_type": "code",
   "execution_count": 276,
   "id": "2c129631",
   "metadata": {},
   "outputs": [],
   "source": [
    "models = [\n",
    "    ('LR', LogisticRegression()),\n",
    "    ('R', RidgeClassifier()),\n",
    "    ('L', PassiveAggressiveClassifier()),\n",
    "    ('SGDC', SGDClassifier()),\n",
    "    ('kNN', KNeighborsClassifier()),\n",
    "    ('SVR', SVC()),\n",
    "    ('RF', RandomForestClassifier()),\n",
    "    ('NB', GaussianNB())\n",
    "]"
   ]
  },
  {
   "cell_type": "code",
   "execution_count": 278,
   "id": "abac529b",
   "metadata": {},
   "outputs": [
    {
     "ename": "KeyboardInterrupt",
     "evalue": "",
     "output_type": "error",
     "traceback": [
      "\u001b[0;31m---------------------------------------------------------------------------\u001b[0m",
      "\u001b[0;31mKeyboardInterrupt\u001b[0m                         Traceback (most recent call last)",
      "Input \u001b[0;32mIn [278]\u001b[0m, in \u001b[0;36m<cell line: 1>\u001b[0;34m()\u001b[0m\n\u001b[1;32m      1\u001b[0m \u001b[38;5;28;01mfor\u001b[39;00m n,m \u001b[38;5;129;01min\u001b[39;00m models:\n\u001b[0;32m----> 2\u001b[0m     \u001b[43mm\u001b[49m\u001b[38;5;241;43m.\u001b[39;49m\u001b[43mfit\u001b[49m\u001b[43m(\u001b[49m\u001b[43mX_train\u001b[49m\u001b[43m,\u001b[49m\u001b[43m \u001b[49m\u001b[43my_train\u001b[49m\u001b[43m)\u001b[49m\n",
      "File \u001b[0;32m~/opt/anaconda3/envs/ml/lib/python3.10/site-packages/sklearn/svm/_base.py:251\u001b[0m, in \u001b[0;36mBaseLibSVM.fit\u001b[0;34m(self, X, y, sample_weight)\u001b[0m\n\u001b[1;32m    248\u001b[0m     \u001b[38;5;28mprint\u001b[39m(\u001b[38;5;124m\"\u001b[39m\u001b[38;5;124m[LibSVM]\u001b[39m\u001b[38;5;124m\"\u001b[39m, end\u001b[38;5;241m=\u001b[39m\u001b[38;5;124m\"\u001b[39m\u001b[38;5;124m\"\u001b[39m)\n\u001b[1;32m    250\u001b[0m seed \u001b[38;5;241m=\u001b[39m rnd\u001b[38;5;241m.\u001b[39mrandint(np\u001b[38;5;241m.\u001b[39miinfo(\u001b[38;5;124m\"\u001b[39m\u001b[38;5;124mi\u001b[39m\u001b[38;5;124m\"\u001b[39m)\u001b[38;5;241m.\u001b[39mmax)\n\u001b[0;32m--> 251\u001b[0m \u001b[43mfit\u001b[49m\u001b[43m(\u001b[49m\u001b[43mX\u001b[49m\u001b[43m,\u001b[49m\u001b[43m \u001b[49m\u001b[43my\u001b[49m\u001b[43m,\u001b[49m\u001b[43m \u001b[49m\u001b[43msample_weight\u001b[49m\u001b[43m,\u001b[49m\u001b[43m \u001b[49m\u001b[43msolver_type\u001b[49m\u001b[43m,\u001b[49m\u001b[43m \u001b[49m\u001b[43mkernel\u001b[49m\u001b[43m,\u001b[49m\u001b[43m \u001b[49m\u001b[43mrandom_seed\u001b[49m\u001b[38;5;241;43m=\u001b[39;49m\u001b[43mseed\u001b[49m\u001b[43m)\u001b[49m\n\u001b[1;32m    252\u001b[0m \u001b[38;5;66;03m# see comment on the other call to np.iinfo in this file\u001b[39;00m\n\u001b[1;32m    254\u001b[0m \u001b[38;5;28mself\u001b[39m\u001b[38;5;241m.\u001b[39mshape_fit_ \u001b[38;5;241m=\u001b[39m X\u001b[38;5;241m.\u001b[39mshape \u001b[38;5;28;01mif\u001b[39;00m \u001b[38;5;28mhasattr\u001b[39m(X, \u001b[38;5;124m\"\u001b[39m\u001b[38;5;124mshape\u001b[39m\u001b[38;5;124m\"\u001b[39m) \u001b[38;5;28;01melse\u001b[39;00m (n_samples,)\n",
      "File \u001b[0;32m~/opt/anaconda3/envs/ml/lib/python3.10/site-packages/sklearn/svm/_base.py:333\u001b[0m, in \u001b[0;36mBaseLibSVM._dense_fit\u001b[0;34m(self, X, y, sample_weight, solver_type, kernel, random_seed)\u001b[0m\n\u001b[1;32m    319\u001b[0m libsvm\u001b[38;5;241m.\u001b[39mset_verbosity_wrap(\u001b[38;5;28mself\u001b[39m\u001b[38;5;241m.\u001b[39mverbose)\n\u001b[1;32m    321\u001b[0m \u001b[38;5;66;03m# we don't pass **self.get_params() to allow subclasses to\u001b[39;00m\n\u001b[1;32m    322\u001b[0m \u001b[38;5;66;03m# add other parameters to __init__\u001b[39;00m\n\u001b[1;32m    323\u001b[0m (\n\u001b[1;32m    324\u001b[0m     \u001b[38;5;28mself\u001b[39m\u001b[38;5;241m.\u001b[39msupport_,\n\u001b[1;32m    325\u001b[0m     \u001b[38;5;28mself\u001b[39m\u001b[38;5;241m.\u001b[39msupport_vectors_,\n\u001b[1;32m    326\u001b[0m     \u001b[38;5;28mself\u001b[39m\u001b[38;5;241m.\u001b[39m_n_support,\n\u001b[1;32m    327\u001b[0m     \u001b[38;5;28mself\u001b[39m\u001b[38;5;241m.\u001b[39mdual_coef_,\n\u001b[1;32m    328\u001b[0m     \u001b[38;5;28mself\u001b[39m\u001b[38;5;241m.\u001b[39mintercept_,\n\u001b[1;32m    329\u001b[0m     \u001b[38;5;28mself\u001b[39m\u001b[38;5;241m.\u001b[39m_probA,\n\u001b[1;32m    330\u001b[0m     \u001b[38;5;28mself\u001b[39m\u001b[38;5;241m.\u001b[39m_probB,\n\u001b[1;32m    331\u001b[0m     \u001b[38;5;28mself\u001b[39m\u001b[38;5;241m.\u001b[39mfit_status_,\n\u001b[1;32m    332\u001b[0m     \u001b[38;5;28mself\u001b[39m\u001b[38;5;241m.\u001b[39m_num_iter,\n\u001b[0;32m--> 333\u001b[0m ) \u001b[38;5;241m=\u001b[39m \u001b[43mlibsvm\u001b[49m\u001b[38;5;241;43m.\u001b[39;49m\u001b[43mfit\u001b[49m\u001b[43m(\u001b[49m\n\u001b[1;32m    334\u001b[0m \u001b[43m    \u001b[49m\u001b[43mX\u001b[49m\u001b[43m,\u001b[49m\n\u001b[1;32m    335\u001b[0m \u001b[43m    \u001b[49m\u001b[43my\u001b[49m\u001b[43m,\u001b[49m\n\u001b[1;32m    336\u001b[0m \u001b[43m    \u001b[49m\u001b[43msvm_type\u001b[49m\u001b[38;5;241;43m=\u001b[39;49m\u001b[43msolver_type\u001b[49m\u001b[43m,\u001b[49m\n\u001b[1;32m    337\u001b[0m \u001b[43m    \u001b[49m\u001b[43msample_weight\u001b[49m\u001b[38;5;241;43m=\u001b[39;49m\u001b[43msample_weight\u001b[49m\u001b[43m,\u001b[49m\n\u001b[1;32m    338\u001b[0m \u001b[43m    \u001b[49m\u001b[43mclass_weight\u001b[49m\u001b[38;5;241;43m=\u001b[39;49m\u001b[38;5;28;43mself\u001b[39;49m\u001b[38;5;241;43m.\u001b[39;49m\u001b[43mclass_weight_\u001b[49m\u001b[43m,\u001b[49m\n\u001b[1;32m    339\u001b[0m \u001b[43m    \u001b[49m\u001b[43mkernel\u001b[49m\u001b[38;5;241;43m=\u001b[39;49m\u001b[43mkernel\u001b[49m\u001b[43m,\u001b[49m\n\u001b[1;32m    340\u001b[0m \u001b[43m    \u001b[49m\u001b[43mC\u001b[49m\u001b[38;5;241;43m=\u001b[39;49m\u001b[38;5;28;43mself\u001b[39;49m\u001b[38;5;241;43m.\u001b[39;49m\u001b[43mC\u001b[49m\u001b[43m,\u001b[49m\n\u001b[1;32m    341\u001b[0m \u001b[43m    \u001b[49m\u001b[43mnu\u001b[49m\u001b[38;5;241;43m=\u001b[39;49m\u001b[38;5;28;43mself\u001b[39;49m\u001b[38;5;241;43m.\u001b[39;49m\u001b[43mnu\u001b[49m\u001b[43m,\u001b[49m\n\u001b[1;32m    342\u001b[0m \u001b[43m    \u001b[49m\u001b[43mprobability\u001b[49m\u001b[38;5;241;43m=\u001b[39;49m\u001b[38;5;28;43mself\u001b[39;49m\u001b[38;5;241;43m.\u001b[39;49m\u001b[43mprobability\u001b[49m\u001b[43m,\u001b[49m\n\u001b[1;32m    343\u001b[0m \u001b[43m    \u001b[49m\u001b[43mdegree\u001b[49m\u001b[38;5;241;43m=\u001b[39;49m\u001b[38;5;28;43mself\u001b[39;49m\u001b[38;5;241;43m.\u001b[39;49m\u001b[43mdegree\u001b[49m\u001b[43m,\u001b[49m\n\u001b[1;32m    344\u001b[0m \u001b[43m    \u001b[49m\u001b[43mshrinking\u001b[49m\u001b[38;5;241;43m=\u001b[39;49m\u001b[38;5;28;43mself\u001b[39;49m\u001b[38;5;241;43m.\u001b[39;49m\u001b[43mshrinking\u001b[49m\u001b[43m,\u001b[49m\n\u001b[1;32m    345\u001b[0m \u001b[43m    \u001b[49m\u001b[43mtol\u001b[49m\u001b[38;5;241;43m=\u001b[39;49m\u001b[38;5;28;43mself\u001b[39;49m\u001b[38;5;241;43m.\u001b[39;49m\u001b[43mtol\u001b[49m\u001b[43m,\u001b[49m\n\u001b[1;32m    346\u001b[0m \u001b[43m    \u001b[49m\u001b[43mcache_size\u001b[49m\u001b[38;5;241;43m=\u001b[39;49m\u001b[38;5;28;43mself\u001b[39;49m\u001b[38;5;241;43m.\u001b[39;49m\u001b[43mcache_size\u001b[49m\u001b[43m,\u001b[49m\n\u001b[1;32m    347\u001b[0m \u001b[43m    \u001b[49m\u001b[43mcoef0\u001b[49m\u001b[38;5;241;43m=\u001b[39;49m\u001b[38;5;28;43mself\u001b[39;49m\u001b[38;5;241;43m.\u001b[39;49m\u001b[43mcoef0\u001b[49m\u001b[43m,\u001b[49m\n\u001b[1;32m    348\u001b[0m \u001b[43m    \u001b[49m\u001b[43mgamma\u001b[49m\u001b[38;5;241;43m=\u001b[39;49m\u001b[38;5;28;43mself\u001b[39;49m\u001b[38;5;241;43m.\u001b[39;49m\u001b[43m_gamma\u001b[49m\u001b[43m,\u001b[49m\n\u001b[1;32m    349\u001b[0m \u001b[43m    \u001b[49m\u001b[43mepsilon\u001b[49m\u001b[38;5;241;43m=\u001b[39;49m\u001b[38;5;28;43mself\u001b[39;49m\u001b[38;5;241;43m.\u001b[39;49m\u001b[43mepsilon\u001b[49m\u001b[43m,\u001b[49m\n\u001b[1;32m    350\u001b[0m \u001b[43m    \u001b[49m\u001b[43mmax_iter\u001b[49m\u001b[38;5;241;43m=\u001b[39;49m\u001b[38;5;28;43mself\u001b[39;49m\u001b[38;5;241;43m.\u001b[39;49m\u001b[43mmax_iter\u001b[49m\u001b[43m,\u001b[49m\n\u001b[1;32m    351\u001b[0m \u001b[43m    \u001b[49m\u001b[43mrandom_seed\u001b[49m\u001b[38;5;241;43m=\u001b[39;49m\u001b[43mrandom_seed\u001b[49m\u001b[43m,\u001b[49m\n\u001b[1;32m    352\u001b[0m \u001b[43m\u001b[49m\u001b[43m)\u001b[49m\n\u001b[1;32m    354\u001b[0m \u001b[38;5;28mself\u001b[39m\u001b[38;5;241m.\u001b[39m_warn_from_fit_status()\n",
      "\u001b[0;31mKeyboardInterrupt\u001b[0m: "
     ]
    }
   ],
   "source": [
    "for n,m in models:\n",
    "    m.fit(X_train, y_train)"
   ]
  },
  {
   "cell_type": "code",
   "execution_count": 212,
   "id": "8009492f",
   "metadata": {},
   "outputs": [],
   "source": [
    "def evaluate_model(n, m):\n",
    "    model = m\n",
    "    model.fit(X_train, y_train)\n",
    "    y_pred = model.predict(X_test)\n",
    "    results = {'Model': n,\n",
    "              'F1': f1_score(y_test, y_pred),\n",
    "               'log loss': log_loss(y_test, y_pred),\n",
    "              'Accuracy': accuracy_score(y_test, y_pred),\n",
    "              'CV': np.mean(cross_val_score(m, X_train, y_train, scoring='f1'))}\n",
    "    print(confusion_matrix(y_test, y_pred))\n",
    "    return results"
   ]
  },
  {
   "cell_type": "code",
   "execution_count": null,
   "id": "f8cdf1dc",
   "metadata": {},
   "outputs": [],
   "source": [
    "def evaluate_model(n, m):\n",
    "    model = m\n",
    "    model.fit(X_train, y_train)\n",
    "    y_pred = model.predict(X_test)\n",
    "    results = {'Model': n,\n",
    "              'F1': f1_score(y_test, y_pred),\n",
    "               'log loss': log_loss(y_test, y_pred),\n",
    "              'Accuracy': accuracy_score(y_test, y_pred),\n",
    "              'CV': np.mean(cross_val_score(m, X_train, y_train, scoring='f1'))}\n",
    "    print(confusion_matrix(y_test, y_pred))\n",
    "    return results"
   ]
  },
  {
   "cell_type": "code",
   "execution_count": 277,
   "id": "72dec6ee",
   "metadata": {},
   "outputs": [],
   "source": [
    "X_train, X_test, y_train, y_test = train_test_split(X, y, test_size=0.3, random_state=42)"
   ]
  },
  {
   "cell_type": "code",
   "execution_count": null,
   "id": "e3ce2bd3",
   "metadata": {},
   "outputs": [],
   "source": [
    "pd.concat([results, pd.DataFrame.from_dict([{'batch': s, **evaluate_model(n, m)}])], axis=0)"
   ]
  },
  {
   "cell_type": "code",
   "execution_count": null,
   "id": "d8c34ef1",
   "metadata": {},
   "outputs": [],
   "source": []
  },
  {
   "cell_type": "code",
   "execution_count": 22,
   "id": "770ebccf",
   "metadata": {},
   "outputs": [
    {
     "name": "stderr",
     "output_type": "stream",
     "text": [
      "100%|██████████████████████████████████████████████████████████████████████████████████████████████| 8/8 [00:31<00:00,  3.92s/it]\n"
     ]
    }
   ],
   "source": [
    "# s=0, 8 models, \n",
    "results_df = pd.DataFrame()\n",
    "predictions = pd.DataFrame()\n",
    "\n",
    "for s in range(1):\n",
    "# for s in range(share_1_0):\n",
    "    x_s = pd.concat([X_1, X_0.loc[samples[samples.values == s].index]])\n",
    "    y_s = pd.concat([y_1, y_0.loc[samples[samples.values == s].index]])\n",
    "    X_train, X_test, y_train, y_test = train_test_split(x_s, y_s,\n",
    "                                                        test_size=0.3, random_state=42)\n",
    "    predictions['y_test'] = y_test\n",
    "\n",
    "    for n,m in tqdm(models):\n",
    "        model = m\n",
    "        model.fit(X_train, y_train)\n",
    "        y_pred = model.predict(X_test)\n",
    "        predictions[n] = y_pred\n",
    "        tn, fp, fn, tp = confusion_matrix(y_test, y_pred).ravel()\n",
    "        results = {'Model': n,\n",
    "                      'F1': f1_score(y_test, y_pred),\n",
    "                    'log loss': log_loss(y_test, y_pred),\n",
    "                  'Accuracy': accuracy_score(y_test, y_pred),\n",
    "                  'CV': np.mean(cross_val_score(m, X_train, y_train, scoring='f1')),\n",
    "                  'fp+fn': fp+fn}\n",
    "        \n",
    "        results_df = pd.concat([results_df, pd.DataFrame.from_dict([{'batch': s, **results}])], axis=0)"
   ]
  },
  {
   "cell_type": "code",
   "execution_count": 23,
   "id": "c5306fd9",
   "metadata": {},
   "outputs": [
    {
     "data": {
      "text/html": [
       "<div>\n",
       "<style scoped>\n",
       "    .dataframe tbody tr th:only-of-type {\n",
       "        vertical-align: middle;\n",
       "    }\n",
       "\n",
       "    .dataframe tbody tr th {\n",
       "        vertical-align: top;\n",
       "    }\n",
       "\n",
       "    .dataframe thead th {\n",
       "        text-align: right;\n",
       "    }\n",
       "</style>\n",
       "<table border=\"1\" class=\"dataframe\">\n",
       "  <thead>\n",
       "    <tr style=\"text-align: right;\">\n",
       "      <th></th>\n",
       "      <th>batch</th>\n",
       "      <th>Model</th>\n",
       "      <th>F1</th>\n",
       "      <th>log loss</th>\n",
       "      <th>Accuracy</th>\n",
       "      <th>CV</th>\n",
       "      <th>fp+fn</th>\n",
       "    </tr>\n",
       "  </thead>\n",
       "  <tbody>\n",
       "    <tr>\n",
       "      <th>0</th>\n",
       "      <td>0</td>\n",
       "      <td>LR</td>\n",
       "      <td>0.991642</td>\n",
       "      <td>0.289864</td>\n",
       "      <td>0.991608</td>\n",
       "      <td>0.991124</td>\n",
       "      <td>96</td>\n",
       "    </tr>\n",
       "    <tr>\n",
       "      <th>0</th>\n",
       "      <td>0</td>\n",
       "      <td>SGDC</td>\n",
       "      <td>0.991109</td>\n",
       "      <td>0.307980</td>\n",
       "      <td>0.991083</td>\n",
       "      <td>0.991037</td>\n",
       "      <td>102</td>\n",
       "    </tr>\n",
       "    <tr>\n",
       "      <th>0</th>\n",
       "      <td>0</td>\n",
       "      <td>SVR</td>\n",
       "      <td>0.991110</td>\n",
       "      <td>0.307981</td>\n",
       "      <td>0.991083</td>\n",
       "      <td>0.991114</td>\n",
       "      <td>102</td>\n",
       "    </tr>\n",
       "    <tr>\n",
       "      <th>0</th>\n",
       "      <td>0</td>\n",
       "      <td>RF</td>\n",
       "      <td>0.990708</td>\n",
       "      <td>0.323079</td>\n",
       "      <td>0.990646</td>\n",
       "      <td>0.990659</td>\n",
       "      <td>107</td>\n",
       "    </tr>\n",
       "    <tr>\n",
       "      <th>0</th>\n",
       "      <td>0</td>\n",
       "      <td>kNN</td>\n",
       "      <td>0.989275</td>\n",
       "      <td>0.374411</td>\n",
       "      <td>0.989160</td>\n",
       "      <td>0.988730</td>\n",
       "      <td>124</td>\n",
       "    </tr>\n",
       "    <tr>\n",
       "      <th>0</th>\n",
       "      <td>0</td>\n",
       "      <td>NB</td>\n",
       "      <td>0.988508</td>\n",
       "      <td>0.398564</td>\n",
       "      <td>0.988461</td>\n",
       "      <td>0.987869</td>\n",
       "      <td>132</td>\n",
       "    </tr>\n",
       "    <tr>\n",
       "      <th>0</th>\n",
       "      <td>0</td>\n",
       "      <td>R</td>\n",
       "      <td>0.984330</td>\n",
       "      <td>0.546518</td>\n",
       "      <td>0.984177</td>\n",
       "      <td>0.985015</td>\n",
       "      <td>181</td>\n",
       "    </tr>\n",
       "    <tr>\n",
       "      <th>0</th>\n",
       "      <td>0</td>\n",
       "      <td>L</td>\n",
       "      <td>0.843402</td>\n",
       "      <td>4.719305</td>\n",
       "      <td>0.863362</td>\n",
       "      <td>0.988372</td>\n",
       "      <td>1563</td>\n",
       "    </tr>\n",
       "  </tbody>\n",
       "</table>\n",
       "</div>"
      ],
      "text/plain": [
       "   batch Model        F1  log loss  Accuracy        CV  fp+fn\n",
       "0      0    LR  0.991642  0.289864  0.991608  0.991124     96\n",
       "0      0  SGDC  0.991109  0.307980  0.991083  0.991037    102\n",
       "0      0   SVR  0.991110  0.307981  0.991083  0.991114    102\n",
       "0      0    RF  0.990708  0.323079  0.990646  0.990659    107\n",
       "0      0   kNN  0.989275  0.374411  0.989160  0.988730    124\n",
       "0      0    NB  0.988508  0.398564  0.988461  0.987869    132\n",
       "0      0     R  0.984330  0.546518  0.984177  0.985015    181\n",
       "0      0     L  0.843402  4.719305  0.863362  0.988372   1563"
      ]
     },
     "execution_count": 23,
     "metadata": {},
     "output_type": "execute_result"
    }
   ],
   "source": [
    "results_df.sort_values(by='fp+fn')"
   ]
  },
  {
   "cell_type": "code",
   "execution_count": 82,
   "id": "84f5da87",
   "metadata": {
    "scrolled": true
   },
   "outputs": [
    {
     "name": "stdout",
     "output_type": "stream",
     "text": [
      "LR: 96\n",
      "R: 181\n",
      "SGDC: 102\n",
      "kNN: 122\n",
      "SVR: 102\n",
      "RF: 105\n",
      "NB: 132\n"
     ]
    }
   ],
   "source": [
    "# s=3, 3 models, voting\n",
    "\n",
    "models = [\n",
    "    ('LR', LogisticRegression()),\n",
    "    ('R', RidgeClassifier()),\n",
    "    ('SGDC', SGDClassifier(loss='log', penalty='l1')),\n",
    "    ('kNN', KNeighborsClassifier(weights='distance')),\n",
    "    ('SVR', SVC(C=1, gamma=0.1)),\n",
    "    ('RF', RandomForestClassifier()),\n",
    "    ('NB', GaussianNB())\n",
    "]\n",
    "\n",
    "\n",
    "results_v = pd.DataFrame()\n",
    "predictions_v = pd.DataFrame()\n",
    "\n",
    "for s in range(1):\n",
    "# for s in tqdm(range(share_1_0)):\n",
    "    x_s = pd.concat([X_1, X_0.loc[samples[samples.values == s].index]])\n",
    "    y_s = pd.concat([y_1, y_0.loc[samples[samples.values == s].index]])\n",
    "    X_train, X_test, y_train, y_test = train_test_split(x_s, y_s,\n",
    "                                                        test_size=0.3, random_state=42)\n",
    "    predictions_v['y_test'] = y_test\n",
    "\n",
    "    for n,m in models:\n",
    "        model = m\n",
    "        m.fit(X_train, y_train)\n",
    "        y_pred = pd.Series(data= m.predict(X_test), index = X_test.index, name = f'{s}_{n}')\n",
    "        predictions_v = predictions_v.merge(y_pred, how='outer', left_index=True, right_index=True)\n",
    "        tn, fp, fn, tp = confusion_matrix(y_test, y_pred).ravel()\n",
    "        results = {'batch': s,\n",
    "                   'model': n,\n",
    "                   'F1': f1_score(y_test, y_pred),\n",
    "                   'log loss': log_loss(y_test, y_pred),\n",
    "                   'Accuracy': accuracy_score(y_test, y_pred),\n",
    "                   'CV': np.mean(cross_val_score(m, X_train, y_train, scoring='f1')),\n",
    "                   'fp+fn': fp+fn}\n",
    "        print(f'{n}: {fp+fn}')\n",
    "        results_v = pd.concat([results_v, pd.DataFrame.from_dict([{'batch': s, **results}])], axis=0)\n",
    "        \n",
    "predictions_v = predictions_v.merge(y, how='inner', left_index=True, right_index=True)"
   ]
  },
  {
   "cell_type": "code",
   "execution_count": 97,
   "id": "dbe6add0",
   "metadata": {},
   "outputs": [
    {
     "data": {
      "text/plain": [
       "Index(['y_test', '0_LR', '0_R', '0_SGDC', '0_kNN', '0_SVR', '0_RF', '0_NB',\n",
       "       'ordered'],\n",
       "      dtype='object')"
      ]
     },
     "execution_count": 97,
     "metadata": {},
     "output_type": "execute_result"
    }
   ],
   "source": [
    "predictions_v.columns"
   ]
  },
  {
   "cell_type": "code",
   "execution_count": 113,
   "id": "7d72738d",
   "metadata": {},
   "outputs": [
    {
     "data": {
      "text/plain": [
       "[('0_LR', '0_kNN'), ('0_LR', '0_SVR'), ('0_kNN', '0_SVR')]"
      ]
     },
     "execution_count": 113,
     "metadata": {},
     "output_type": "execute_result"
    }
   ],
   "source": [
    "import itertools\n",
    "[i for i in itertools.combinations(['0_LR','0_kNN', '0_SVR'], 2)]"
   ]
  },
  {
   "cell_type": "code",
   "execution_count": null,
   "id": "2aa08396",
   "metadata": {},
   "outputs": [],
   "source": [
    "# model on models results\n",
    "\n",
    "models = [\n",
    "    ('LR', LogisticRegression()),\n",
    "    ('R', RidgeClassifier()),\n",
    "    ('SGDC', SGDClassifier(loss='log', penalty='l1')),\n",
    "#     ('kNN', KNeighborsClassifier(weights='distance')),\n",
    "    ('SVR', SVC(C=1, gamma=0.1)),\n",
    "#     ('RF', RandomForestClassifier()),\n",
    "#     ('NB', GaussianNB())\n",
    "]\n",
    "\n",
    "results_df1 = pd.DataFrame()\n",
    "\n",
    "X_train, X_test, y_train, y_test = train_test_split(predictions_v.iloc[:, 1:-1], predictions['y_test'],\n",
    "                                                        test_size=0.3, random_state=42)\n",
    "\n",
    "for n,m in tqdm(models):\n",
    "        model = m\n",
    "        model.fit(X_train, y_train)\n",
    "        y_pred = model.predict(X_test)\n",
    "        tn, fp, fn, tp = confusion_matrix(y_test, y_pred).ravel()\n",
    "        results = {'Model': n,\n",
    "                  'fp+fn': fp+fn}\n",
    "        \n",
    "        results_df1 = pd.concat([results_df1, pd.DataFrame.from_dict([{'batch': s, **results}])], axis=0)"
   ]
  },
  {
   "cell_type": "code",
   "execution_count": 111,
   "id": "93b3f831",
   "metadata": {},
   "outputs": [],
   "source": [
    "# model on models results\n",
    "\n",
    "models = [\n",
    "    ('LR', LogisticRegression()),\n",
    "    ('R', RidgeClassifier()),\n",
    "    ('SGDC', SGDClassifier(loss='log', penalty='l1')),\n",
    "#     ('kNN', KNeighborsClassifier(weights='distance')),\n",
    "    ('SVR', SVC(C=1, gamma=0.1)),\n",
    "#     ('RF', RandomForestClassifier()),\n",
    "#     ('NB', GaussianNB())\n",
    "]\n",
    "\n",
    "results_df1 = pd.DataFrame()\n",
    "\n",
    "for j, col_set in enumerate([i for i in itertools.combinations(['0_LR', '0_kNN', '0_SVR'], 2)]):\n",
    "    \n",
    "\n",
    "    X_train, X_test, y_train, y_test = train_test_split(predictions_v.loc[:,list(col_set)], predictions['y_test'],\n",
    "                                                            test_size=0.3, random_state=42)\n",
    "\n",
    "    for n,m in (models):\n",
    "            model = m\n",
    "            model.fit(X_train, y_train)\n",
    "            y_pred = model.predict(X_test)\n",
    "            tn, fp, fn, tp = confusion_matrix(y_test, y_pred).ravel()\n",
    "            results = {'Model': n,\n",
    "                       'col_set': j,\n",
    "                      'fp+fn': fp+fn}\n",
    "\n",
    "            results_df1 = pd.concat([results_df1, pd.DataFrame.from_dict([{'batch': s, **results}])], axis=0)"
   ]
  },
  {
   "cell_type": "code",
   "execution_count": 112,
   "id": "1fa5087e",
   "metadata": {},
   "outputs": [
    {
     "data": {
      "text/html": [
       "<div>\n",
       "<style scoped>\n",
       "    .dataframe tbody tr th:only-of-type {\n",
       "        vertical-align: middle;\n",
       "    }\n",
       "\n",
       "    .dataframe tbody tr th {\n",
       "        vertical-align: top;\n",
       "    }\n",
       "\n",
       "    .dataframe thead th {\n",
       "        text-align: right;\n",
       "    }\n",
       "</style>\n",
       "<table border=\"1\" class=\"dataframe\">\n",
       "  <thead>\n",
       "    <tr style=\"text-align: right;\">\n",
       "      <th></th>\n",
       "      <th>batch</th>\n",
       "      <th>Model</th>\n",
       "      <th>col_set</th>\n",
       "      <th>fp+fn</th>\n",
       "    </tr>\n",
       "  </thead>\n",
       "  <tbody>\n",
       "    <tr>\n",
       "      <th>0</th>\n",
       "      <td>0</td>\n",
       "      <td>LR</td>\n",
       "      <td>0</td>\n",
       "      <td>22</td>\n",
       "    </tr>\n",
       "    <tr>\n",
       "      <th>0</th>\n",
       "      <td>0</td>\n",
       "      <td>R</td>\n",
       "      <td>0</td>\n",
       "      <td>22</td>\n",
       "    </tr>\n",
       "    <tr>\n",
       "      <th>0</th>\n",
       "      <td>0</td>\n",
       "      <td>SGDC</td>\n",
       "      <td>0</td>\n",
       "      <td>22</td>\n",
       "    </tr>\n",
       "    <tr>\n",
       "      <th>0</th>\n",
       "      <td>0</td>\n",
       "      <td>SVR</td>\n",
       "      <td>0</td>\n",
       "      <td>22</td>\n",
       "    </tr>\n",
       "    <tr>\n",
       "      <th>0</th>\n",
       "      <td>0</td>\n",
       "      <td>LR</td>\n",
       "      <td>1</td>\n",
       "      <td>22</td>\n",
       "    </tr>\n",
       "    <tr>\n",
       "      <th>0</th>\n",
       "      <td>0</td>\n",
       "      <td>R</td>\n",
       "      <td>1</td>\n",
       "      <td>22</td>\n",
       "    </tr>\n",
       "    <tr>\n",
       "      <th>0</th>\n",
       "      <td>0</td>\n",
       "      <td>SGDC</td>\n",
       "      <td>1</td>\n",
       "      <td>22</td>\n",
       "    </tr>\n",
       "    <tr>\n",
       "      <th>0</th>\n",
       "      <td>0</td>\n",
       "      <td>SVR</td>\n",
       "      <td>1</td>\n",
       "      <td>22</td>\n",
       "    </tr>\n",
       "    <tr>\n",
       "      <th>0</th>\n",
       "      <td>0</td>\n",
       "      <td>LR</td>\n",
       "      <td>2</td>\n",
       "      <td>24</td>\n",
       "    </tr>\n",
       "    <tr>\n",
       "      <th>0</th>\n",
       "      <td>0</td>\n",
       "      <td>R</td>\n",
       "      <td>2</td>\n",
       "      <td>24</td>\n",
       "    </tr>\n",
       "    <tr>\n",
       "      <th>0</th>\n",
       "      <td>0</td>\n",
       "      <td>SVR</td>\n",
       "      <td>2</td>\n",
       "      <td>24</td>\n",
       "    </tr>\n",
       "    <tr>\n",
       "      <th>0</th>\n",
       "      <td>0</td>\n",
       "      <td>SGDC</td>\n",
       "      <td>2</td>\n",
       "      <td>26</td>\n",
       "    </tr>\n",
       "  </tbody>\n",
       "</table>\n",
       "</div>"
      ],
      "text/plain": [
       "   batch Model  col_set  fp+fn\n",
       "0      0    LR        0     22\n",
       "0      0     R        0     22\n",
       "0      0  SGDC        0     22\n",
       "0      0   SVR        0     22\n",
       "0      0    LR        1     22\n",
       "0      0     R        1     22\n",
       "0      0  SGDC        1     22\n",
       "0      0   SVR        1     22\n",
       "0      0    LR        2     24\n",
       "0      0     R        2     24\n",
       "0      0   SVR        2     24\n",
       "0      0  SGDC        2     26"
      ]
     },
     "execution_count": 112,
     "metadata": {},
     "output_type": "execute_result"
    }
   ],
   "source": [
    "results_df1.sort_values(by='fp+fn')"
   ]
  },
  {
   "cell_type": "code",
   "execution_count": null,
   "id": "79908e22",
   "metadata": {},
   "outputs": [],
   "source": [
    "# LR, SVR, SGDC"
   ]
  },
  {
   "cell_type": "code",
   "execution_count": 284,
   "id": "78fd89e9",
   "metadata": {
    "collapsed": true
   },
   "outputs": [
    {
     "ename": "KeyboardInterrupt",
     "evalue": "",
     "output_type": "error",
     "traceback": [
      "\u001b[0;31m---------------------------------------------------------------------------\u001b[0m",
      "\u001b[0;31mKeyboardInterrupt\u001b[0m                         Traceback (most recent call last)",
      "Input \u001b[0;32mIn [284]\u001b[0m, in \u001b[0;36m<cell line: 9>\u001b[0;34m()\u001b[0m\n\u001b[1;32m      4\u001b[0m \u001b[38;5;28;01mfrom\u001b[39;00m \u001b[38;5;21;01msklearn\u001b[39;00m\u001b[38;5;21;01m.\u001b[39;00m\u001b[38;5;21;01mensemble\u001b[39;00m \u001b[38;5;28;01mimport\u001b[39;00m AdaBoostClassifier\n\u001b[1;32m      5\u001b[0m ada_clf \u001b[38;5;241m=\u001b[39m AdaBoostClassifier(\n\u001b[1;32m      6\u001b[0m          SVC(C\u001b[38;5;241m=\u001b[39m\u001b[38;5;241m10\u001b[39m, gamma\u001b[38;5;241m=\u001b[39m\u001b[38;5;241m0.1\u001b[39m, probability\u001b[38;5;241m=\u001b[39m\u001b[38;5;28;01mTrue\u001b[39;00m), n_estimators\u001b[38;5;241m=\u001b[39m\u001b[38;5;241m200\u001b[39m,\n\u001b[1;32m      7\u001b[0m          algorithm\u001b[38;5;241m=\u001b[39m\u001b[38;5;124m\"\u001b[39m\u001b[38;5;124mSAMME.R\u001b[39m\u001b[38;5;124m\"\u001b[39m, learning_rate\u001b[38;5;241m=\u001b[39m\u001b[38;5;241m0.5\u001b[39m\n\u001b[1;32m      8\u001b[0m      )\n\u001b[0;32m----> 9\u001b[0m \u001b[43mada_clf\u001b[49m\u001b[38;5;241;43m.\u001b[39;49m\u001b[43mfit\u001b[49m\u001b[43m(\u001b[49m\u001b[43mX_train\u001b[49m\u001b[43m,\u001b[49m\u001b[43m \u001b[49m\u001b[43my_train\u001b[49m\u001b[43m)\u001b[49m\n\u001b[1;32m     10\u001b[0m y_pred \u001b[38;5;241m=\u001b[39m ada_clf\u001b[38;5;241m.\u001b[39mpredict(X_test)\n\u001b[1;32m     11\u001b[0m f1_score(y_pred, y_test)\n",
      "File \u001b[0;32m~/opt/anaconda3/envs/ml/lib/python3.10/site-packages/sklearn/ensemble/_weight_boosting.py:506\u001b[0m, in \u001b[0;36mAdaBoostClassifier.fit\u001b[0;34m(self, X, y, sample_weight)\u001b[0m\n\u001b[1;32m    500\u001b[0m     \u001b[38;5;28;01mraise\u001b[39;00m \u001b[38;5;167;01mValueError\u001b[39;00m(\n\u001b[1;32m    501\u001b[0m         \u001b[38;5;124m\"\u001b[39m\u001b[38;5;124mAlgorithm must be \u001b[39m\u001b[38;5;124m'\u001b[39m\u001b[38;5;124mSAMME\u001b[39m\u001b[38;5;124m'\u001b[39m\u001b[38;5;124m or \u001b[39m\u001b[38;5;124m'\u001b[39m\u001b[38;5;124mSAMME.R\u001b[39m\u001b[38;5;124m'\u001b[39m\u001b[38;5;124m.\u001b[39m\u001b[38;5;124m\"\u001b[39m\n\u001b[1;32m    502\u001b[0m         \u001b[38;5;124mf\u001b[39m\u001b[38;5;124m\"\u001b[39m\u001b[38;5;124m Got \u001b[39m\u001b[38;5;132;01m{\u001b[39;00m\u001b[38;5;28mself\u001b[39m\u001b[38;5;241m.\u001b[39malgorithm\u001b[38;5;132;01m!r}\u001b[39;00m\u001b[38;5;124m instead.\u001b[39m\u001b[38;5;124m\"\u001b[39m\n\u001b[1;32m    503\u001b[0m     )\n\u001b[1;32m    505\u001b[0m \u001b[38;5;66;03m# Fit\u001b[39;00m\n\u001b[0;32m--> 506\u001b[0m \u001b[38;5;28;01mreturn\u001b[39;00m \u001b[38;5;28;43msuper\u001b[39;49m\u001b[43m(\u001b[49m\u001b[43m)\u001b[49m\u001b[38;5;241;43m.\u001b[39;49m\u001b[43mfit\u001b[49m\u001b[43m(\u001b[49m\u001b[43mX\u001b[49m\u001b[43m,\u001b[49m\u001b[43m \u001b[49m\u001b[43my\u001b[49m\u001b[43m,\u001b[49m\u001b[43m \u001b[49m\u001b[43msample_weight\u001b[49m\u001b[43m)\u001b[49m\n",
      "File \u001b[0;32m~/opt/anaconda3/envs/ml/lib/python3.10/site-packages/sklearn/ensemble/_weight_boosting.py:160\u001b[0m, in \u001b[0;36mBaseWeightBoosting.fit\u001b[0;34m(self, X, y, sample_weight)\u001b[0m\n\u001b[1;32m    156\u001b[0m random_state \u001b[38;5;241m=\u001b[39m check_random_state(\u001b[38;5;28mself\u001b[39m\u001b[38;5;241m.\u001b[39mrandom_state)\n\u001b[1;32m    158\u001b[0m \u001b[38;5;28;01mfor\u001b[39;00m iboost \u001b[38;5;129;01min\u001b[39;00m \u001b[38;5;28mrange\u001b[39m(\u001b[38;5;28mself\u001b[39m\u001b[38;5;241m.\u001b[39mn_estimators):\n\u001b[1;32m    159\u001b[0m     \u001b[38;5;66;03m# Boosting step\u001b[39;00m\n\u001b[0;32m--> 160\u001b[0m     sample_weight, estimator_weight, estimator_error \u001b[38;5;241m=\u001b[39m \u001b[38;5;28;43mself\u001b[39;49m\u001b[38;5;241;43m.\u001b[39;49m\u001b[43m_boost\u001b[49m\u001b[43m(\u001b[49m\n\u001b[1;32m    161\u001b[0m \u001b[43m        \u001b[49m\u001b[43miboost\u001b[49m\u001b[43m,\u001b[49m\u001b[43m \u001b[49m\u001b[43mX\u001b[49m\u001b[43m,\u001b[49m\u001b[43m \u001b[49m\u001b[43my\u001b[49m\u001b[43m,\u001b[49m\u001b[43m \u001b[49m\u001b[43msample_weight\u001b[49m\u001b[43m,\u001b[49m\u001b[43m \u001b[49m\u001b[43mrandom_state\u001b[49m\n\u001b[1;32m    162\u001b[0m \u001b[43m    \u001b[49m\u001b[43m)\u001b[49m\n\u001b[1;32m    164\u001b[0m     \u001b[38;5;66;03m# Early termination\u001b[39;00m\n\u001b[1;32m    165\u001b[0m     \u001b[38;5;28;01mif\u001b[39;00m sample_weight \u001b[38;5;129;01mis\u001b[39;00m \u001b[38;5;28;01mNone\u001b[39;00m:\n",
      "File \u001b[0;32m~/opt/anaconda3/envs/ml/lib/python3.10/site-packages/sklearn/ensemble/_weight_boosting.py:568\u001b[0m, in \u001b[0;36mAdaBoostClassifier._boost\u001b[0;34m(self, iboost, X, y, sample_weight, random_state)\u001b[0m\n\u001b[1;32m    529\u001b[0m \u001b[38;5;124;03m\"\"\"Implement a single boost.\u001b[39;00m\n\u001b[1;32m    530\u001b[0m \n\u001b[1;32m    531\u001b[0m \u001b[38;5;124;03mPerform a single boost according to the real multi-class SAMME.R\u001b[39;00m\n\u001b[0;32m   (...)\u001b[0m\n\u001b[1;32m    565\u001b[0m \u001b[38;5;124;03m    If None then boosting has terminated early.\u001b[39;00m\n\u001b[1;32m    566\u001b[0m \u001b[38;5;124;03m\"\"\"\u001b[39;00m\n\u001b[1;32m    567\u001b[0m \u001b[38;5;28;01mif\u001b[39;00m \u001b[38;5;28mself\u001b[39m\u001b[38;5;241m.\u001b[39malgorithm \u001b[38;5;241m==\u001b[39m \u001b[38;5;124m\"\u001b[39m\u001b[38;5;124mSAMME.R\u001b[39m\u001b[38;5;124m\"\u001b[39m:\n\u001b[0;32m--> 568\u001b[0m     \u001b[38;5;28;01mreturn\u001b[39;00m \u001b[38;5;28;43mself\u001b[39;49m\u001b[38;5;241;43m.\u001b[39;49m\u001b[43m_boost_real\u001b[49m\u001b[43m(\u001b[49m\u001b[43miboost\u001b[49m\u001b[43m,\u001b[49m\u001b[43m \u001b[49m\u001b[43mX\u001b[49m\u001b[43m,\u001b[49m\u001b[43m \u001b[49m\u001b[43my\u001b[49m\u001b[43m,\u001b[49m\u001b[43m \u001b[49m\u001b[43msample_weight\u001b[49m\u001b[43m,\u001b[49m\u001b[43m \u001b[49m\u001b[43mrandom_state\u001b[49m\u001b[43m)\u001b[49m\n\u001b[1;32m    570\u001b[0m \u001b[38;5;28;01melse\u001b[39;00m:  \u001b[38;5;66;03m# elif self.algorithm == \"SAMME\":\u001b[39;00m\n\u001b[1;32m    571\u001b[0m     \u001b[38;5;28;01mreturn\u001b[39;00m \u001b[38;5;28mself\u001b[39m\u001b[38;5;241m.\u001b[39m_boost_discrete(iboost, X, y, sample_weight, random_state)\n",
      "File \u001b[0;32m~/opt/anaconda3/envs/ml/lib/python3.10/site-packages/sklearn/ensemble/_weight_boosting.py:579\u001b[0m, in \u001b[0;36mAdaBoostClassifier._boost_real\u001b[0;34m(self, iboost, X, y, sample_weight, random_state)\u001b[0m\n\u001b[1;32m    575\u001b[0m estimator \u001b[38;5;241m=\u001b[39m \u001b[38;5;28mself\u001b[39m\u001b[38;5;241m.\u001b[39m_make_estimator(random_state\u001b[38;5;241m=\u001b[39mrandom_state)\n\u001b[1;32m    577\u001b[0m estimator\u001b[38;5;241m.\u001b[39mfit(X, y, sample_weight\u001b[38;5;241m=\u001b[39msample_weight)\n\u001b[0;32m--> 579\u001b[0m y_predict_proba \u001b[38;5;241m=\u001b[39m \u001b[43mestimator\u001b[49m\u001b[38;5;241;43m.\u001b[39;49m\u001b[43mpredict_proba\u001b[49m\u001b[43m(\u001b[49m\u001b[43mX\u001b[49m\u001b[43m)\u001b[49m\n\u001b[1;32m    581\u001b[0m \u001b[38;5;28;01mif\u001b[39;00m iboost \u001b[38;5;241m==\u001b[39m \u001b[38;5;241m0\u001b[39m:\n\u001b[1;32m    582\u001b[0m     \u001b[38;5;28mself\u001b[39m\u001b[38;5;241m.\u001b[39mclasses_ \u001b[38;5;241m=\u001b[39m \u001b[38;5;28mgetattr\u001b[39m(estimator, \u001b[38;5;124m\"\u001b[39m\u001b[38;5;124mclasses_\u001b[39m\u001b[38;5;124m\"\u001b[39m, \u001b[38;5;28;01mNone\u001b[39;00m)\n",
      "File \u001b[0;32m~/opt/anaconda3/envs/ml/lib/python3.10/site-packages/sklearn/svm/_base.py:861\u001b[0m, in \u001b[0;36mBaseSVC.predict_proba\u001b[0;34m(self, X)\u001b[0m\n\u001b[1;32m    855\u001b[0m     \u001b[38;5;28;01mraise\u001b[39;00m NotFittedError(\n\u001b[1;32m    856\u001b[0m         \u001b[38;5;124m\"\u001b[39m\u001b[38;5;124mpredict_proba is not available when fitted with probability=False\u001b[39m\u001b[38;5;124m\"\u001b[39m\n\u001b[1;32m    857\u001b[0m     )\n\u001b[1;32m    858\u001b[0m pred_proba \u001b[38;5;241m=\u001b[39m (\n\u001b[1;32m    859\u001b[0m     \u001b[38;5;28mself\u001b[39m\u001b[38;5;241m.\u001b[39m_sparse_predict_proba \u001b[38;5;28;01mif\u001b[39;00m \u001b[38;5;28mself\u001b[39m\u001b[38;5;241m.\u001b[39m_sparse \u001b[38;5;28;01melse\u001b[39;00m \u001b[38;5;28mself\u001b[39m\u001b[38;5;241m.\u001b[39m_dense_predict_proba\n\u001b[1;32m    860\u001b[0m )\n\u001b[0;32m--> 861\u001b[0m \u001b[38;5;28;01mreturn\u001b[39;00m \u001b[43mpred_proba\u001b[49m\u001b[43m(\u001b[49m\u001b[43mX\u001b[49m\u001b[43m)\u001b[49m\n",
      "File \u001b[0;32m~/opt/anaconda3/envs/ml/lib/python3.10/site-packages/sklearn/svm/_base.py:901\u001b[0m, in \u001b[0;36mBaseSVC._dense_predict_proba\u001b[0;34m(self, X)\u001b[0m\n\u001b[1;32m    898\u001b[0m     kernel \u001b[38;5;241m=\u001b[39m \u001b[38;5;124m\"\u001b[39m\u001b[38;5;124mprecomputed\u001b[39m\u001b[38;5;124m\"\u001b[39m\n\u001b[1;32m    900\u001b[0m svm_type \u001b[38;5;241m=\u001b[39m LIBSVM_IMPL\u001b[38;5;241m.\u001b[39mindex(\u001b[38;5;28mself\u001b[39m\u001b[38;5;241m.\u001b[39m_impl)\n\u001b[0;32m--> 901\u001b[0m pprob \u001b[38;5;241m=\u001b[39m \u001b[43mlibsvm\u001b[49m\u001b[38;5;241;43m.\u001b[39;49m\u001b[43mpredict_proba\u001b[49m\u001b[43m(\u001b[49m\n\u001b[1;32m    902\u001b[0m \u001b[43m    \u001b[49m\u001b[43mX\u001b[49m\u001b[43m,\u001b[49m\n\u001b[1;32m    903\u001b[0m \u001b[43m    \u001b[49m\u001b[38;5;28;43mself\u001b[39;49m\u001b[38;5;241;43m.\u001b[39;49m\u001b[43msupport_\u001b[49m\u001b[43m,\u001b[49m\n\u001b[1;32m    904\u001b[0m \u001b[43m    \u001b[49m\u001b[38;5;28;43mself\u001b[39;49m\u001b[38;5;241;43m.\u001b[39;49m\u001b[43msupport_vectors_\u001b[49m\u001b[43m,\u001b[49m\n\u001b[1;32m    905\u001b[0m \u001b[43m    \u001b[49m\u001b[38;5;28;43mself\u001b[39;49m\u001b[38;5;241;43m.\u001b[39;49m\u001b[43m_n_support\u001b[49m\u001b[43m,\u001b[49m\n\u001b[1;32m    906\u001b[0m \u001b[43m    \u001b[49m\u001b[38;5;28;43mself\u001b[39;49m\u001b[38;5;241;43m.\u001b[39;49m\u001b[43m_dual_coef_\u001b[49m\u001b[43m,\u001b[49m\n\u001b[1;32m    907\u001b[0m \u001b[43m    \u001b[49m\u001b[38;5;28;43mself\u001b[39;49m\u001b[38;5;241;43m.\u001b[39;49m\u001b[43m_intercept_\u001b[49m\u001b[43m,\u001b[49m\n\u001b[1;32m    908\u001b[0m \u001b[43m    \u001b[49m\u001b[38;5;28;43mself\u001b[39;49m\u001b[38;5;241;43m.\u001b[39;49m\u001b[43m_probA\u001b[49m\u001b[43m,\u001b[49m\n\u001b[1;32m    909\u001b[0m \u001b[43m    \u001b[49m\u001b[38;5;28;43mself\u001b[39;49m\u001b[38;5;241;43m.\u001b[39;49m\u001b[43m_probB\u001b[49m\u001b[43m,\u001b[49m\n\u001b[1;32m    910\u001b[0m \u001b[43m    \u001b[49m\u001b[43msvm_type\u001b[49m\u001b[38;5;241;43m=\u001b[39;49m\u001b[43msvm_type\u001b[49m\u001b[43m,\u001b[49m\n\u001b[1;32m    911\u001b[0m \u001b[43m    \u001b[49m\u001b[43mkernel\u001b[49m\u001b[38;5;241;43m=\u001b[39;49m\u001b[43mkernel\u001b[49m\u001b[43m,\u001b[49m\n\u001b[1;32m    912\u001b[0m \u001b[43m    \u001b[49m\u001b[43mdegree\u001b[49m\u001b[38;5;241;43m=\u001b[39;49m\u001b[38;5;28;43mself\u001b[39;49m\u001b[38;5;241;43m.\u001b[39;49m\u001b[43mdegree\u001b[49m\u001b[43m,\u001b[49m\n\u001b[1;32m    913\u001b[0m \u001b[43m    \u001b[49m\u001b[43mcache_size\u001b[49m\u001b[38;5;241;43m=\u001b[39;49m\u001b[38;5;28;43mself\u001b[39;49m\u001b[38;5;241;43m.\u001b[39;49m\u001b[43mcache_size\u001b[49m\u001b[43m,\u001b[49m\n\u001b[1;32m    914\u001b[0m \u001b[43m    \u001b[49m\u001b[43mcoef0\u001b[49m\u001b[38;5;241;43m=\u001b[39;49m\u001b[38;5;28;43mself\u001b[39;49m\u001b[38;5;241;43m.\u001b[39;49m\u001b[43mcoef0\u001b[49m\u001b[43m,\u001b[49m\n\u001b[1;32m    915\u001b[0m \u001b[43m    \u001b[49m\u001b[43mgamma\u001b[49m\u001b[38;5;241;43m=\u001b[39;49m\u001b[38;5;28;43mself\u001b[39;49m\u001b[38;5;241;43m.\u001b[39;49m\u001b[43m_gamma\u001b[49m\u001b[43m,\u001b[49m\n\u001b[1;32m    916\u001b[0m \u001b[43m\u001b[49m\u001b[43m)\u001b[49m\n\u001b[1;32m    918\u001b[0m \u001b[38;5;28;01mreturn\u001b[39;00m pprob\n",
      "\u001b[0;31mKeyboardInterrupt\u001b[0m: "
     ]
    }
   ],
   "source": [
    "X_train, X_test, y_train, y_test = train_test_split(x_s, y_s,\n",
    "                                                        test_size=0.3, random_state=42)\n",
    "\n",
    "from sklearn.ensemble import AdaBoostClassifier\n",
    "ada_clf = AdaBoostClassifier(\n",
    "         SVC(C=10, gamma=0.1, probability=True), n_estimators=200,\n",
    "         algorithm=\"SAMME.R\", learning_rate=0.5\n",
    "     )\n",
    "ada_clf.fit(X_train, y_train)\n",
    "y_pred = ada_clf.predict(X_test)\n",
    "f1_score(y_pred, y_test)"
   ]
  },
  {
   "cell_type": "code",
   "execution_count": null,
   "id": "af47b7d5",
   "metadata": {},
   "outputs": [],
   "source": [
    "print(confusion_matrix(y_test, y_pred))"
   ]
  },
  {
   "cell_type": "code",
   "execution_count": null,
   "id": "eba13c7d",
   "metadata": {},
   "outputs": [],
   "source": [
    "# X_train, X_test, y_train, y_test = train_test_split(x_s, y_s,\n",
    "#                                                         test_size=0.3, random_state=42)\n",
    "\n",
    "ada_clf = GradientBoostingClassifier(\n",
    "         SVC(C=10, gamma=0.1, probability=True), n_estimators=200,\n",
    "         algorithm=\"SAMME.R\", learning_rate=0.5\n",
    "     )\n",
    "ada_clf.fit(X_train, y_train)\n",
    "y_pred = ada_clf.predict(X_test)\n",
    "f1_score(y_pred, y_test)"
   ]
  },
  {
   "cell_type": "code",
   "execution_count": null,
   "id": "f1f21ec1",
   "metadata": {},
   "outputs": [],
   "source": [
    "print(confusion_matrix(y_test, y_pred))"
   ]
  },
  {
   "cell_type": "code",
   "execution_count": 223,
   "id": "8b58f356",
   "metadata": {},
   "outputs": [
    {
     "name": "stdout",
     "output_type": "stream",
     "text": [
      "Fitting 5 folds for each of 16 candidates, totalling 80 fits\n",
      "[CV] END .........................C=0.1, gamma=1, kernel=rbf; total time=   5.3s\n",
      "[CV] END .........................C=0.1, gamma=1, kernel=rbf; total time=   5.2s\n",
      "[CV] END .........................C=0.1, gamma=1, kernel=rbf; total time=   5.1s\n",
      "[CV] END .........................C=0.1, gamma=1, kernel=rbf; total time=   5.1s\n",
      "[CV] END .........................C=0.1, gamma=1, kernel=rbf; total time=   5.1s\n",
      "[CV] END .......................C=0.1, gamma=0.1, kernel=rbf; total time=   2.1s\n",
      "[CV] END .......................C=0.1, gamma=0.1, kernel=rbf; total time=   2.2s\n",
      "[CV] END .......................C=0.1, gamma=0.1, kernel=rbf; total time=   2.1s\n",
      "[CV] END .......................C=0.1, gamma=0.1, kernel=rbf; total time=   2.2s\n",
      "[CV] END .......................C=0.1, gamma=0.1, kernel=rbf; total time=   2.1s\n",
      "[CV] END ......................C=0.1, gamma=0.01, kernel=rbf; total time=   3.9s\n",
      "[CV] END ......................C=0.1, gamma=0.01, kernel=rbf; total time=   3.8s\n",
      "[CV] END ......................C=0.1, gamma=0.01, kernel=rbf; total time=   3.8s\n",
      "[CV] END ......................C=0.1, gamma=0.01, kernel=rbf; total time=   4.0s\n",
      "[CV] END ......................C=0.1, gamma=0.01, kernel=rbf; total time=   3.7s\n",
      "[CV] END .....................C=0.1, gamma=0.001, kernel=rbf; total time=  15.4s\n",
      "[CV] END .....................C=0.1, gamma=0.001, kernel=rbf; total time=  15.7s\n",
      "[CV] END .....................C=0.1, gamma=0.001, kernel=rbf; total time=  16.0s\n",
      "[CV] END .....................C=0.1, gamma=0.001, kernel=rbf; total time=  15.8s\n",
      "[CV] END .....................C=0.1, gamma=0.001, kernel=rbf; total time=  15.2s\n",
      "[CV] END ...........................C=1, gamma=1, kernel=rbf; total time=   3.7s\n",
      "[CV] END ...........................C=1, gamma=1, kernel=rbf; total time=   3.7s\n",
      "[CV] END ...........................C=1, gamma=1, kernel=rbf; total time=   3.7s\n",
      "[CV] END ...........................C=1, gamma=1, kernel=rbf; total time=   3.8s\n",
      "[CV] END ...........................C=1, gamma=1, kernel=rbf; total time=   3.7s\n",
      "[CV] END .........................C=1, gamma=0.1, kernel=rbf; total time=   1.5s\n",
      "[CV] END .........................C=1, gamma=0.1, kernel=rbf; total time=   1.6s\n",
      "[CV] END .........................C=1, gamma=0.1, kernel=rbf; total time=   1.4s\n",
      "[CV] END .........................C=1, gamma=0.1, kernel=rbf; total time=   1.5s\n",
      "[CV] END .........................C=1, gamma=0.1, kernel=rbf; total time=   1.4s\n",
      "[CV] END ........................C=1, gamma=0.01, kernel=rbf; total time=   2.2s\n",
      "[CV] END ........................C=1, gamma=0.01, kernel=rbf; total time=   2.2s\n",
      "[CV] END ........................C=1, gamma=0.01, kernel=rbf; total time=   2.0s\n",
      "[CV] END ........................C=1, gamma=0.01, kernel=rbf; total time=   2.2s\n",
      "[CV] END ........................C=1, gamma=0.01, kernel=rbf; total time=   2.1s\n",
      "[CV] END .......................C=1, gamma=0.001, kernel=rbf; total time=   3.6s\n",
      "[CV] END .......................C=1, gamma=0.001, kernel=rbf; total time=   3.6s\n",
      "[CV] END .......................C=1, gamma=0.001, kernel=rbf; total time=   3.6s\n",
      "[CV] END .......................C=1, gamma=0.001, kernel=rbf; total time=   3.7s\n",
      "[CV] END .......................C=1, gamma=0.001, kernel=rbf; total time=   3.5s\n",
      "[CV] END ..........................C=10, gamma=1, kernel=rbf; total time=   3.7s\n",
      "[CV] END ..........................C=10, gamma=1, kernel=rbf; total time=   3.7s\n",
      "[CV] END ..........................C=10, gamma=1, kernel=rbf; total time=   3.7s\n",
      "[CV] END ..........................C=10, gamma=1, kernel=rbf; total time=   3.8s\n",
      "[CV] END ..........................C=10, gamma=1, kernel=rbf; total time=   3.7s\n",
      "[CV] END ........................C=10, gamma=0.1, kernel=rbf; total time=   1.4s\n",
      "[CV] END ........................C=10, gamma=0.1, kernel=rbf; total time=   1.6s\n",
      "[CV] END ........................C=10, gamma=0.1, kernel=rbf; total time=   1.4s\n",
      "[CV] END ........................C=10, gamma=0.1, kernel=rbf; total time=   1.5s\n",
      "[CV] END ........................C=10, gamma=0.1, kernel=rbf; total time=   1.5s\n",
      "[CV] END .......................C=10, gamma=0.01, kernel=rbf; total time=   1.6s\n",
      "[CV] END .......................C=10, gamma=0.01, kernel=rbf; total time=   1.9s\n",
      "[CV] END .......................C=10, gamma=0.01, kernel=rbf; total time=   1.6s\n",
      "[CV] END .......................C=10, gamma=0.01, kernel=rbf; total time=   1.8s\n",
      "[CV] END .......................C=10, gamma=0.01, kernel=rbf; total time=   1.8s\n",
      "[CV] END ......................C=10, gamma=0.001, kernel=rbf; total time=   2.2s\n",
      "[CV] END ......................C=10, gamma=0.001, kernel=rbf; total time=   2.1s\n",
      "[CV] END ......................C=10, gamma=0.001, kernel=rbf; total time=   2.0s\n",
      "[CV] END ......................C=10, gamma=0.001, kernel=rbf; total time=   2.2s\n",
      "[CV] END ......................C=10, gamma=0.001, kernel=rbf; total time=   2.0s\n",
      "[CV] END .........................C=100, gamma=1, kernel=rbf; total time=   3.7s\n",
      "[CV] END .........................C=100, gamma=1, kernel=rbf; total time=   3.6s\n",
      "[CV] END .........................C=100, gamma=1, kernel=rbf; total time=   3.7s\n",
      "[CV] END .........................C=100, gamma=1, kernel=rbf; total time=   3.8s\n",
      "[CV] END .........................C=100, gamma=1, kernel=rbf; total time=   3.7s\n",
      "[CV] END .......................C=100, gamma=0.1, kernel=rbf; total time=   1.8s\n",
      "[CV] END .......................C=100, gamma=0.1, kernel=rbf; total time=   1.9s\n",
      "[CV] END .......................C=100, gamma=0.1, kernel=rbf; total time=   1.9s\n",
      "[CV] END .......................C=100, gamma=0.1, kernel=rbf; total time=   2.1s\n",
      "[CV] END .......................C=100, gamma=0.1, kernel=rbf; total time=   1.9s\n",
      "[CV] END ......................C=100, gamma=0.01, kernel=rbf; total time=   1.7s\n",
      "[CV] END ......................C=100, gamma=0.01, kernel=rbf; total time=   2.1s\n",
      "[CV] END ......................C=100, gamma=0.01, kernel=rbf; total time=   1.5s\n",
      "[CV] END ......................C=100, gamma=0.01, kernel=rbf; total time=   1.9s\n",
      "[CV] END ......................C=100, gamma=0.01, kernel=rbf; total time=   1.9s\n",
      "[CV] END .....................C=100, gamma=0.001, kernel=rbf; total time=   2.1s\n",
      "[CV] END .....................C=100, gamma=0.001, kernel=rbf; total time=   2.1s\n",
      "[CV] END .....................C=100, gamma=0.001, kernel=rbf; total time=   2.1s\n",
      "[CV] END .....................C=100, gamma=0.001, kernel=rbf; total time=   2.4s\n",
      "[CV] END .....................C=100, gamma=0.001, kernel=rbf; total time=   1.9s\n",
      "SVC(C=10, gamma=0.1)\n",
      "[[5735   43]\n",
      " [  43 5660]]\n",
      "              precision    recall  f1-score   support\n",
      "\n",
      "           0       0.99      0.99      0.99      5778\n",
      "           1       0.99      0.99      0.99      5703\n",
      "\n",
      "    accuracy                           0.99     11481\n",
      "   macro avg       0.99      0.99      0.99     11481\n",
      "weighted avg       0.99      0.99      0.99     11481\n",
      "\n"
     ]
    }
   ],
   "source": [
    "from sklearn.model_selection import GridSearchCV\n",
    "\n",
    "param_grid = {'C': [0.1,1, 10, 100], 'gamma': [1,0.1,0.01,0.001],'kernel': ['rbf']}\n",
    "grid = GridSearchCV(SVC(),param_grid,refit=True,verbose=2)\n",
    "grid.fit(X_train,y_train)\n",
    "print(grid.best_estimator_)\n",
    "\n",
    "grid_predictions = grid.predict(X_test)\n",
    "print(confusion_matrix(y_test,grid_predictions))\n",
    "print(classification_report(y_test,grid_predictions))"
   ]
  },
  {
   "cell_type": "code",
   "execution_count": 224,
   "id": "a4e4c47d",
   "metadata": {},
   "outputs": [
    {
     "name": "stdout",
     "output_type": "stream",
     "text": [
      "SVC(C=10, gamma=0.1)\n"
     ]
    }
   ],
   "source": [
    "print(grid.best_estimator_)"
   ]
  },
  {
   "cell_type": "code",
   "execution_count": 49,
   "id": "5baca293",
   "metadata": {},
   "outputs": [
    {
     "name": "stdout",
     "output_type": "stream",
     "text": [
      "Fitting 5 folds for each of 30 candidates, totalling 150 fits\n",
      "[CV] END .............................loss=hinge, penalty=l2; total time=   0.0s\n",
      "[CV] END .............................loss=hinge, penalty=l2; total time=   0.0s\n",
      "[CV] END .............................loss=hinge, penalty=l2; total time=   0.0s\n",
      "[CV] END .............................loss=hinge, penalty=l2; total time=   0.0s\n",
      "[CV] END .............................loss=hinge, penalty=l2; total time=   0.0s\n",
      "[CV] END .............................loss=hinge, penalty=l1; total time=   0.0s\n",
      "[CV] END .............................loss=hinge, penalty=l1; total time=   0.0s\n",
      "[CV] END .............................loss=hinge, penalty=l1; total time=   0.0s\n",
      "[CV] END .............................loss=hinge, penalty=l1; total time=   0.0s\n",
      "[CV] END .............................loss=hinge, penalty=l1; total time=   0.0s\n",
      "[CV] END .....................loss=hinge, penalty=elasticnet; total time=   0.0s\n",
      "[CV] END .....................loss=hinge, penalty=elasticnet; total time=   0.0s\n",
      "[CV] END .....................loss=hinge, penalty=elasticnet; total time=   0.0s\n",
      "[CV] END .....................loss=hinge, penalty=elasticnet; total time=   0.0s\n",
      "[CV] END .....................loss=hinge, penalty=elasticnet; total time=   0.0s\n",
      "[CV] END ..........................loss=log_loss, penalty=l2; total time=   0.0s\n",
      "[CV] END ..........................loss=log_loss, penalty=l2; total time=   0.0s\n",
      "[CV] END ..........................loss=log_loss, penalty=l2; total time=   0.0s\n",
      "[CV] END ..........................loss=log_loss, penalty=l2; total time=   0.0s\n",
      "[CV] END ..........................loss=log_loss, penalty=l2; total time=   0.0s\n",
      "[CV] END ..........................loss=log_loss, penalty=l1; total time=   0.0s\n",
      "[CV] END ..........................loss=log_loss, penalty=l1; total time=   0.0s\n",
      "[CV] END ..........................loss=log_loss, penalty=l1; total time=   0.0s\n",
      "[CV] END ..........................loss=log_loss, penalty=l1; total time=   0.0s\n",
      "[CV] END ..........................loss=log_loss, penalty=l1; total time=   0.0s\n",
      "[CV] END ..................loss=log_loss, penalty=elasticnet; total time=   0.0s\n",
      "[CV] END ..................loss=log_loss, penalty=elasticnet; total time=   0.0s\n",
      "[CV] END ..................loss=log_loss, penalty=elasticnet; total time=   0.0s\n",
      "[CV] END ..................loss=log_loss, penalty=elasticnet; total time=   0.0s\n",
      "[CV] END ..................loss=log_loss, penalty=elasticnet; total time=   0.0s\n",
      "[CV] END ...............................loss=log, penalty=l2; total time=   0.0s\n",
      "[CV] END ...............................loss=log, penalty=l2; total time=   0.0s\n",
      "[CV] END ...............................loss=log, penalty=l2; total time=   0.0s\n",
      "[CV] END ...............................loss=log, penalty=l2; total time=   0.0s\n",
      "[CV] END ...............................loss=log, penalty=l2; total time=   0.0s\n",
      "[CV] END ...............................loss=log, penalty=l1; total time=   0.0s\n",
      "[CV] END ...............................loss=log, penalty=l1; total time=   0.0s\n",
      "[CV] END ...............................loss=log, penalty=l1; total time=   0.0s\n",
      "[CV] END ...............................loss=log, penalty=l1; total time=   0.0s\n",
      "[CV] END ...............................loss=log, penalty=l1; total time=   0.0s\n",
      "[CV] END .......................loss=log, penalty=elasticnet; total time=   0.0s\n",
      "[CV] END .......................loss=log, penalty=elasticnet; total time=   0.0s\n",
      "[CV] END .......................loss=log, penalty=elasticnet; total time=   0.0s\n",
      "[CV] END .......................loss=log, penalty=elasticnet; total time=   0.0s\n",
      "[CV] END .......................loss=log, penalty=elasticnet; total time=   0.0s\n",
      "[CV] END ....................loss=modified_huber, penalty=l2; total time=   0.0s\n",
      "[CV] END ....................loss=modified_huber, penalty=l2; total time=   0.0s\n",
      "[CV] END ....................loss=modified_huber, penalty=l2; total time=   0.0s\n",
      "[CV] END ....................loss=modified_huber, penalty=l2; total time=   0.0s\n",
      "[CV] END ....................loss=modified_huber, penalty=l2; total time=   0.0s\n",
      "[CV] END ....................loss=modified_huber, penalty=l1; total time=   0.0s\n",
      "[CV] END ....................loss=modified_huber, penalty=l1; total time=   0.0s\n",
      "[CV] END ....................loss=modified_huber, penalty=l1; total time=   0.0s\n",
      "[CV] END ....................loss=modified_huber, penalty=l1; total time=   0.0s\n",
      "[CV] END ....................loss=modified_huber, penalty=l1; total time=   0.0s\n",
      "[CV] END ............loss=modified_huber, penalty=elasticnet; total time=   0.1s\n",
      "[CV] END ............loss=modified_huber, penalty=elasticnet; total time=   0.1s\n",
      "[CV] END ............loss=modified_huber, penalty=elasticnet; total time=   0.0s\n",
      "[CV] END ............loss=modified_huber, penalty=elasticnet; total time=   0.1s\n",
      "[CV] END ............loss=modified_huber, penalty=elasticnet; total time=   0.0s\n",
      "[CV] END .....................loss=squared_hinge, penalty=l2; total time=   0.3s\n",
      "[CV] END .....................loss=squared_hinge, penalty=l2; total time=   0.3s\n",
      "[CV] END .....................loss=squared_hinge, penalty=l2; total time=   0.6s\n",
      "[CV] END .....................loss=squared_hinge, penalty=l2; total time=   0.2s\n",
      "[CV] END .....................loss=squared_hinge, penalty=l2; total time=   0.2s\n",
      "[CV] END .....................loss=squared_hinge, penalty=l1; total time=   0.5s\n",
      "[CV] END .....................loss=squared_hinge, penalty=l1; total time=   1.4s\n",
      "[CV] END .....................loss=squared_hinge, penalty=l1; total time=   1.4s\n",
      "[CV] END .....................loss=squared_hinge, penalty=l1; total time=   1.4s\n",
      "[CV] END .....................loss=squared_hinge, penalty=l1; total time=   1.1s\n",
      "[CV] END .............loss=squared_hinge, penalty=elasticnet; total time=   0.5s\n",
      "[CV] END .............loss=squared_hinge, penalty=elasticnet; total time=   0.3s\n",
      "[CV] END .............loss=squared_hinge, penalty=elasticnet; total time=   0.4s\n",
      "[CV] END .............loss=squared_hinge, penalty=elasticnet; total time=   0.6s\n",
      "[CV] END .............loss=squared_hinge, penalty=elasticnet; total time=   0.3s\n",
      "[CV] END ........................loss=perceptron, penalty=l2; total time=   0.0s\n",
      "[CV] END ........................loss=perceptron, penalty=l2; total time=   0.0s\n",
      "[CV] END ........................loss=perceptron, penalty=l2; total time=   0.0s\n",
      "[CV] END ........................loss=perceptron, penalty=l2; total time=   0.0s\n",
      "[CV] END ........................loss=perceptron, penalty=l2; total time=   0.0s\n",
      "[CV] END ........................loss=perceptron, penalty=l1; total time=   0.0s\n",
      "[CV] END ........................loss=perceptron, penalty=l1; total time=   0.0s\n",
      "[CV] END ........................loss=perceptron, penalty=l1; total time=   0.0s\n",
      "[CV] END ........................loss=perceptron, penalty=l1; total time=   0.0s\n",
      "[CV] END ........................loss=perceptron, penalty=l1; total time=   0.0s\n",
      "[CV] END ................loss=perceptron, penalty=elasticnet; total time=   0.0s\n",
      "[CV] END ................loss=perceptron, penalty=elasticnet; total time=   0.0s\n",
      "[CV] END ................loss=perceptron, penalty=elasticnet; total time=   0.0s\n",
      "[CV] END ................loss=perceptron, penalty=elasticnet; total time=   0.0s\n",
      "[CV] END ................loss=perceptron, penalty=elasticnet; total time=   0.0s\n",
      "[CV] END .....................loss=squared_error, penalty=l2; total time=   0.1s\n",
      "[CV] END .....................loss=squared_error, penalty=l2; total time=   0.1s\n",
      "[CV] END .....................loss=squared_error, penalty=l2; total time=   0.1s\n",
      "[CV] END .....................loss=squared_error, penalty=l2; total time=   0.1s\n",
      "[CV] END .....................loss=squared_error, penalty=l2; total time=   0.1s\n",
      "[CV] END .....................loss=squared_error, penalty=l1; total time=   0.3s\n",
      "[CV] END .....................loss=squared_error, penalty=l1; total time=   0.2s\n",
      "[CV] END .....................loss=squared_error, penalty=l1; total time=   0.2s\n",
      "[CV] END .....................loss=squared_error, penalty=l1; total time=   0.2s\n",
      "[CV] END .....................loss=squared_error, penalty=l1; total time=   0.2s\n",
      "[CV] END .............loss=squared_error, penalty=elasticnet; total time=   0.2s\n",
      "[CV] END .............loss=squared_error, penalty=elasticnet; total time=   0.2s\n"
     ]
    },
    {
     "name": "stdout",
     "output_type": "stream",
     "text": [
      "[CV] END .............loss=squared_error, penalty=elasticnet; total time=   0.2s\n",
      "[CV] END .............loss=squared_error, penalty=elasticnet; total time=   0.2s\n",
      "[CV] END .............loss=squared_error, penalty=elasticnet; total time=   0.1s\n",
      "[CV] END .............................loss=huber, penalty=l2; total time=   0.0s\n",
      "[CV] END .............................loss=huber, penalty=l2; total time=   0.0s\n",
      "[CV] END .............................loss=huber, penalty=l2; total time=   0.0s\n",
      "[CV] END .............................loss=huber, penalty=l2; total time=   0.0s\n",
      "[CV] END .............................loss=huber, penalty=l2; total time=   0.0s\n",
      "[CV] END .............................loss=huber, penalty=l1; total time=   0.0s\n",
      "[CV] END .............................loss=huber, penalty=l1; total time=   0.0s\n",
      "[CV] END .............................loss=huber, penalty=l1; total time=   0.0s\n",
      "[CV] END .............................loss=huber, penalty=l1; total time=   0.0s\n",
      "[CV] END .............................loss=huber, penalty=l1; total time=   0.0s\n",
      "[CV] END .....................loss=huber, penalty=elasticnet; total time=   0.0s\n",
      "[CV] END .....................loss=huber, penalty=elasticnet; total time=   0.0s\n",
      "[CV] END .....................loss=huber, penalty=elasticnet; total time=   0.0s\n",
      "[CV] END .....................loss=huber, penalty=elasticnet; total time=   0.0s\n",
      "[CV] END .....................loss=huber, penalty=elasticnet; total time=   0.0s\n",
      "[CV] END ...............loss=epsilon_insensitive, penalty=l2; total time=   0.0s\n",
      "[CV] END ...............loss=epsilon_insensitive, penalty=l2; total time=   0.0s\n",
      "[CV] END ...............loss=epsilon_insensitive, penalty=l2; total time=   0.0s\n",
      "[CV] END ...............loss=epsilon_insensitive, penalty=l2; total time=   0.0s\n",
      "[CV] END ...............loss=epsilon_insensitive, penalty=l2; total time=   0.0s\n",
      "[CV] END ...............loss=epsilon_insensitive, penalty=l1; total time=   0.0s\n",
      "[CV] END ...............loss=epsilon_insensitive, penalty=l1; total time=   0.0s\n",
      "[CV] END ...............loss=epsilon_insensitive, penalty=l1; total time=   0.0s\n",
      "[CV] END ...............loss=epsilon_insensitive, penalty=l1; total time=   0.0s\n",
      "[CV] END ...............loss=epsilon_insensitive, penalty=l1; total time=   0.0s\n",
      "[CV] END .......loss=epsilon_insensitive, penalty=elasticnet; total time=   0.0s\n",
      "[CV] END .......loss=epsilon_insensitive, penalty=elasticnet; total time=   0.0s\n",
      "[CV] END .......loss=epsilon_insensitive, penalty=elasticnet; total time=   0.0s\n",
      "[CV] END .......loss=epsilon_insensitive, penalty=elasticnet; total time=   0.0s\n",
      "[CV] END .......loss=epsilon_insensitive, penalty=elasticnet; total time=   0.0s\n",
      "[CV] END .......loss=squared_epsilon_insensitive, penalty=l2; total time=   0.1s\n",
      "[CV] END .......loss=squared_epsilon_insensitive, penalty=l2; total time=   0.1s\n",
      "[CV] END .......loss=squared_epsilon_insensitive, penalty=l2; total time=   0.1s\n",
      "[CV] END .......loss=squared_epsilon_insensitive, penalty=l2; total time=   0.1s\n",
      "[CV] END .......loss=squared_epsilon_insensitive, penalty=l2; total time=   0.1s\n",
      "[CV] END .......loss=squared_epsilon_insensitive, penalty=l1; total time=   0.1s\n",
      "[CV] END .......loss=squared_epsilon_insensitive, penalty=l1; total time=   0.1s\n",
      "[CV] END .......loss=squared_epsilon_insensitive, penalty=l1; total time=   0.1s\n",
      "[CV] END .......loss=squared_epsilon_insensitive, penalty=l1; total time=   0.1s\n",
      "[CV] END .......loss=squared_epsilon_insensitive, penalty=l1; total time=   0.1s\n",
      "[CV] END loss=squared_epsilon_insensitive, penalty=elasticnet; total time=   0.1s\n",
      "[CV] END loss=squared_epsilon_insensitive, penalty=elasticnet; total time=   0.1s\n",
      "[CV] END loss=squared_epsilon_insensitive, penalty=elasticnet; total time=   0.1s\n",
      "[CV] END loss=squared_epsilon_insensitive, penalty=elasticnet; total time=   0.1s\n",
      "[CV] END loss=squared_epsilon_insensitive, penalty=elasticnet; total time=   0.1s\n",
      "SGDClassifier(loss='log', penalty='l1')\n",
      "103\n"
     ]
    }
   ],
   "source": [
    "from sklearn.model_selection import GridSearchCV\n",
    "\n",
    "param_grid = {'loss': ['hinge', 'log_loss', 'log', 'modified_huber', 'squared_hinge', 'perceptron', 'squared_error', 'huber', 'epsilon_insensitive','squared_epsilon_insensitive'],\n",
    "              'penalty': ['l2', 'l1', 'elasticnet']}\n",
    "grid = GridSearchCV(SGDClassifier(),param_grid,refit=True,verbose=2)\n",
    "grid.fit(X_train,y_train)\n",
    "print(grid.best_estimator_)\n",
    "tn, fp, fn, tp = confusion_matrix(y_test, y_pred).ravel()\n",
    "print(fp+fn)"
   ]
  },
  {
   "cell_type": "code",
   "execution_count": 52,
   "id": "f9308d48",
   "metadata": {},
   "outputs": [
    {
     "name": "stdout",
     "output_type": "stream",
     "text": [
      "Fitting 5 folds for each of 6 candidates, totalling 30 fits\n",
      "[CV] END .....................n_neighbors=5, weights=uniform; total time=   2.0s\n",
      "[CV] END .....................n_neighbors=5, weights=uniform; total time=   1.6s\n",
      "[CV] END .....................n_neighbors=5, weights=uniform; total time=   1.6s\n",
      "[CV] END .....................n_neighbors=5, weights=uniform; total time=   1.6s\n",
      "[CV] END .....................n_neighbors=5, weights=uniform; total time=   1.6s\n",
      "[CV] END ....................n_neighbors=5, weights=distance; total time=   1.7s\n",
      "[CV] END ....................n_neighbors=5, weights=distance; total time=   1.5s\n",
      "[CV] END ....................n_neighbors=5, weights=distance; total time=   1.6s\n",
      "[CV] END ....................n_neighbors=5, weights=distance; total time=   1.6s\n",
      "[CV] END ....................n_neighbors=5, weights=distance; total time=   1.6s\n",
      "[CV] END ....................n_neighbors=10, weights=uniform; total time=   1.8s\n",
      "[CV] END ....................n_neighbors=10, weights=uniform; total time=   1.7s\n",
      "[CV] END ....................n_neighbors=10, weights=uniform; total time=   1.7s\n",
      "[CV] END ....................n_neighbors=10, weights=uniform; total time=   1.7s\n",
      "[CV] END ....................n_neighbors=10, weights=uniform; total time=   1.7s\n",
      "[CV] END ...................n_neighbors=10, weights=distance; total time=   1.7s\n",
      "[CV] END ...................n_neighbors=10, weights=distance; total time=   1.6s\n",
      "[CV] END ...................n_neighbors=10, weights=distance; total time=   1.6s\n",
      "[CV] END ...................n_neighbors=10, weights=distance; total time=   1.6s\n",
      "[CV] END ...................n_neighbors=10, weights=distance; total time=   1.6s\n",
      "[CV] END ....................n_neighbors=20, weights=uniform; total time=   1.8s\n",
      "[CV] END ....................n_neighbors=20, weights=uniform; total time=   1.7s\n",
      "[CV] END ....................n_neighbors=20, weights=uniform; total time=   1.7s\n",
      "[CV] END ....................n_neighbors=20, weights=uniform; total time=   1.7s\n",
      "[CV] END ....................n_neighbors=20, weights=uniform; total time=   1.7s\n",
      "[CV] END ...................n_neighbors=20, weights=distance; total time=   1.8s\n",
      "[CV] END ...................n_neighbors=20, weights=distance; total time=   1.6s\n",
      "[CV] END ...................n_neighbors=20, weights=distance; total time=   1.6s\n",
      "[CV] END ...................n_neighbors=20, weights=distance; total time=   1.6s\n",
      "[CV] END ...................n_neighbors=20, weights=distance; total time=   1.6s\n",
      "KNeighborsClassifier(weights='distance')\n",
      "103\n"
     ]
    }
   ],
   "source": [
    "from sklearn.model_selection import GridSearchCV\n",
    "\n",
    "param_grid = {'n_neighbors': [5, 10, 20],\n",
    "              'weights': ['uniform', 'distance']}\n",
    "grid = GridSearchCV(KNeighborsClassifier(),param_grid,refit=True,verbose=2)\n",
    "grid.fit(X_train,y_train)\n",
    "print(grid.best_estimator_)\n",
    "tn, fp, fn, tp = confusion_matrix(y_test, y_pred).ravel()\n",
    "print(fp+fn)"
   ]
  },
  {
   "cell_type": "code",
   "execution_count": 119,
   "id": "2b9af406",
   "metadata": {},
   "outputs": [
    {
     "data": {
      "text/plain": [
       "((19093, 23), 436308, 23)"
      ]
     },
     "execution_count": 119,
     "metadata": {},
     "output_type": "execute_result"
    }
   ],
   "source": [
    "X_1.shape, X_0.shape[0], share_1_0"
   ]
  },
  {
   "cell_type": "code",
   "execution_count": 45,
   "id": "e89b23f4",
   "metadata": {},
   "outputs": [],
   "source": [
    "random.seed(45)\n",
    "split = pd.Series(data = np.random.random_integers(0, 5, X_1.shape[0]),\n",
    "            index = X_1.index)"
   ]
  },
  {
   "cell_type": "code",
   "execution_count": 46,
   "id": "456b9b1c",
   "metadata": {},
   "outputs": [
    {
     "data": {
      "text/plain": [
       "0    3281\n",
       "3    3250\n",
       "4    3194\n",
       "2    3160\n",
       "5    3106\n",
       "1    3102\n",
       "dtype: int64"
      ]
     },
     "execution_count": 46,
     "metadata": {},
     "output_type": "execute_result"
    }
   ],
   "source": [
    "split.value_counts()"
   ]
  },
  {
   "cell_type": "code",
   "execution_count": 47,
   "id": "0e056885",
   "metadata": {},
   "outputs": [],
   "source": [
    "X_1_test = X_1.loc[split[split.values==0].index]\n",
    "X_1_train = X_1.loc[split[split.values>0].index]\n",
    "\n",
    "y_1_test = y_1.loc[split[split.values==0].index]\n",
    "y_1_train = y_1.loc[split[split.values>0].index]"
   ]
  },
  {
   "cell_type": "code",
   "execution_count": 48,
   "id": "ae70a15e",
   "metadata": {},
   "outputs": [],
   "source": [
    "x_train_sampled = pd.concat([X_1_train, X_0.sample(X_1_train.shape[0])])\n",
    "y_train_sampled = y.loc[x_train_sampled.index]\n",
    "\n",
    "x_test_sampled = pd.concat([X_1_test, X_0.sample(X_1_test.shape[0])])\n",
    "y_test_sampled = y.loc[x_test_sampled.index]"
   ]
  },
  {
   "cell_type": "code",
   "execution_count": 49,
   "id": "9879660b",
   "metadata": {},
   "outputs": [
    {
     "data": {
      "text/plain": [
       "(31624, 31624, 6562, 6562)"
      ]
     },
     "execution_count": 49,
     "metadata": {},
     "output_type": "execute_result"
    }
   ],
   "source": [
    "x_train_sampled.shape[0], y_train_sampled.shape[0], x_test_sampled.shape[0], y_test_sampled.shape[0]"
   ]
  },
  {
   "cell_type": "code",
   "execution_count": 233,
   "id": "7a712e7e",
   "metadata": {},
   "outputs": [
    {
     "data": {
      "text/plain": [
       "0.008755173511620503"
      ]
     },
     "execution_count": 233,
     "metadata": {},
     "output_type": "execute_result"
    }
   ],
   "source": [
    "55/6282"
   ]
  },
  {
   "cell_type": "code",
   "execution_count": 53,
   "id": "5b863b54",
   "metadata": {},
   "outputs": [
    {
     "name": "stdout",
     "output_type": "stream",
     "text": [
      "LR: 49\n",
      "R: 88\n",
      "SGDC: 52\n",
      "kNN: 64\n",
      "SVR: 55\n",
      "RF: 54\n",
      "NB: 66\n"
     ]
    }
   ],
   "source": [
    "# s=3, 3 models, voting\n",
    "s=0\n",
    "models = [\n",
    "    ('LR', LogisticRegression()),\n",
    "    ('R', RidgeClassifier()),\n",
    "    ('SGDC', SGDClassifier(loss='log', penalty='l1')),\n",
    "    ('kNN', KNeighborsClassifier(weights='distance')),\n",
    "    ('SVR', SVC(C=1, gamma=0.1)),\n",
    "    ('RF', RandomForestClassifier()),\n",
    "    ('NB', GaussianNB())\n",
    "]\n",
    "\n",
    "\n",
    "results_v = pd.DataFrame()\n",
    "predictions_v = pd.DataFrame()\n",
    "\n",
    "predictions_v['y_test'] = y_test_sampled\n",
    "\n",
    "for n,m in models:\n",
    "    model = m\n",
    "    m.fit(x_train_sampled, y_train_sampled)\n",
    "    y_pred = pd.Series(data= m.predict(x_test_sampled), index = x_test_sampled.index, name = f'{s}_{n}')\n",
    "    predictions_v = predictions_v.merge(y_pred, how='outer', left_index=True, right_index=True)\n",
    "    tn, fp, fn, tp = confusion_matrix(y_test_sampled, y_pred).ravel()\n",
    "    results = {\n",
    "               'model': n,\n",
    "               'F1': f1_score(y_test_sampled, y_pred),\n",
    "               'log loss': log_loss(y_test_sampled, y_pred),\n",
    "               'Accuracy': accuracy_score(y_test_sampled, y_pred),\n",
    "               'CV': np.mean(cross_val_score(m, x_train_sampled, y_train_sampled, scoring='f1')),\n",
    "               'fp+fn': fp+fn}\n",
    "    print(f'{n}: {fp+fn}')\n",
    "    results_v = pd.concat([results_v, pd.DataFrame.from_dict([{'batch': s, **results}])], axis=0)\n",
    "\n",
    "predictions_v = predictions_v.merge(y, how='inner', left_index=True, right_index=True)"
   ]
  },
  {
   "cell_type": "code",
   "execution_count": 54,
   "id": "8832825c",
   "metadata": {},
   "outputs": [
    {
     "name": "stderr",
     "output_type": "stream",
     "text": [
      "100%|██████████████████████████████████████████████████████████████████████████████████████████████| 4/4 [00:00<00:00, 36.20it/s]\n"
     ]
    }
   ],
   "source": [
    "# model on models results\n",
    "\n",
    "models = [\n",
    "    ('LR', LogisticRegression()),\n",
    "    ('R', RidgeClassifier()),\n",
    "    ('SGDC', SGDClassifier(loss='log', penalty='l1')),\n",
    "#     ('kNN', KNeighborsClassifier(weights='distance')),\n",
    "    ('SVR', SVC(C=1, gamma=0.1)),\n",
    "#     ('RF', RandomForestClassifier()),\n",
    "#     ('NB', GaussianNB())\n",
    "]\n",
    "\n",
    "results_df1 = pd.DataFrame()\n",
    "\n",
    "X_train, X_test, y_train, y_test = train_test_split(predictions_v.iloc[:, 1:-1], predictions_v['ordered'],\n",
    "                                                        test_size=0.3, random_state=42)\n",
    "\n",
    "for n,m in tqdm(models):\n",
    "        model = m\n",
    "        model.fit(X_train, y_train)\n",
    "        y_pred = model.predict(X_test)\n",
    "        tn, fp, fn, tp = confusion_matrix(y_test, y_pred).ravel()\n",
    "        results = {'Model': n,\n",
    "                  'fp+fn': fp+fn}\n",
    "        \n",
    "        results_df1 = pd.concat([results_df1, pd.DataFrame.from_dict([{'batch': s, **results}])], axis=0)"
   ]
  },
  {
   "cell_type": "code",
   "execution_count": 55,
   "id": "94113344",
   "metadata": {},
   "outputs": [],
   "source": [
    "results_df = pd.DataFrame(data=y_pred, index=X_test.index, columns=['target'])"
   ]
  },
  {
   "cell_type": "code",
   "execution_count": 62,
   "id": "9553c701",
   "metadata": {},
   "outputs": [
    {
     "data": {
      "text/plain": [
       "1003"
      ]
     },
     "execution_count": 62,
     "metadata": {},
     "output_type": "execute_result"
    }
   ],
   "source": [
    "results_df[results_df['target']==1].shape[0]"
   ]
  },
  {
   "cell_type": "code",
   "execution_count": 202,
   "id": "024f72a2",
   "metadata": {},
   "outputs": [
    {
     "data": {
      "text/html": [
       "<div>\n",
       "<style scoped>\n",
       "    .dataframe tbody tr th:only-of-type {\n",
       "        vertical-align: middle;\n",
       "    }\n",
       "\n",
       "    .dataframe tbody tr th {\n",
       "        vertical-align: top;\n",
       "    }\n",
       "\n",
       "    .dataframe thead th {\n",
       "        text-align: right;\n",
       "    }\n",
       "</style>\n",
       "<table border=\"1\" class=\"dataframe\">\n",
       "  <thead>\n",
       "    <tr style=\"text-align: right;\">\n",
       "      <th></th>\n",
       "      <th>batch</th>\n",
       "      <th>Model</th>\n",
       "      <th>fp+fn</th>\n",
       "    </tr>\n",
       "  </thead>\n",
       "  <tbody>\n",
       "    <tr>\n",
       "      <th>0</th>\n",
       "      <td>0</td>\n",
       "      <td>LR</td>\n",
       "      <td>23</td>\n",
       "    </tr>\n",
       "    <tr>\n",
       "      <th>0</th>\n",
       "      <td>0</td>\n",
       "      <td>R</td>\n",
       "      <td>22</td>\n",
       "    </tr>\n",
       "    <tr>\n",
       "      <th>0</th>\n",
       "      <td>0</td>\n",
       "      <td>SGDC</td>\n",
       "      <td>24</td>\n",
       "    </tr>\n",
       "    <tr>\n",
       "      <th>0</th>\n",
       "      <td>0</td>\n",
       "      <td>SVR</td>\n",
       "      <td>21</td>\n",
       "    </tr>\n",
       "  </tbody>\n",
       "</table>\n",
       "</div>"
      ],
      "text/plain": [
       "   batch Model  fp+fn\n",
       "0      0    LR     23\n",
       "0      0     R     22\n",
       "0      0  SGDC     24\n",
       "0      0   SVR     21"
      ]
     },
     "execution_count": 202,
     "metadata": {},
     "output_type": "execute_result"
    }
   ],
   "source": [
    "results_df1"
   ]
  },
  {
   "cell_type": "code",
   "execution_count": 51,
   "id": "45352320",
   "metadata": {},
   "outputs": [
    {
     "ename": "NameError",
     "evalue": "name 'test' is not defined",
     "output_type": "error",
     "traceback": [
      "\u001b[0;31m---------------------------------------------------------------------------\u001b[0m",
      "\u001b[0;31mNameError\u001b[0m                                 Traceback (most recent call last)",
      "Input \u001b[0;32mIn [51]\u001b[0m, in \u001b[0;36m<cell line: 17>\u001b[0;34m()\u001b[0m\n\u001b[1;32m     14\u001b[0m results_v \u001b[38;5;241m=\u001b[39m pd\u001b[38;5;241m.\u001b[39mDataFrame()\n\u001b[1;32m     15\u001b[0m predictions_v \u001b[38;5;241m=\u001b[39m pd\u001b[38;5;241m.\u001b[39mDataFrame()\n\u001b[0;32m---> 17\u001b[0m predictions_v[\u001b[38;5;124m'\u001b[39m\u001b[38;5;124my_test\u001b[39m\u001b[38;5;124m'\u001b[39m] \u001b[38;5;241m=\u001b[39m \u001b[43mtest\u001b[49m[\u001b[38;5;124m'\u001b[39m\u001b[38;5;124mordered\u001b[39m\u001b[38;5;124m'\u001b[39m]\n\u001b[1;32m     19\u001b[0m \u001b[38;5;28;01mfor\u001b[39;00m n,m \u001b[38;5;129;01min\u001b[39;00m models:\n\u001b[1;32m     20\u001b[0m     model \u001b[38;5;241m=\u001b[39m m\n",
      "\u001b[0;31mNameError\u001b[0m: name 'test' is not defined"
     ]
    }
   ],
   "source": [
    "# s=3, 3 models, voting\n",
    "\n",
    "models = [\n",
    "    ('LR', LogisticRegression()),\n",
    "    ('R', RidgeClassifier()),\n",
    "    ('SGDC', SGDClassifier(loss='log', penalty='l1')),\n",
    "#     ('kNN', KNeighborsClassifier(weights='distance')),\n",
    "    ('SVR', SVC(C=1, gamma=0.1)),\n",
    "    ('RF', RandomForestClassifier()),\n",
    "    ('NB', GaussianNB())\n",
    "]\n",
    "\n",
    "\n",
    "results_v = pd.DataFrame()\n",
    "predictions_v = pd.DataFrame()\n",
    "\n",
    "predictions_v['y_test'] = test['ordered']\n",
    "\n",
    "for n,m in models:\n",
    "    model = m\n",
    "    m.fit(x_train_sampled, y_train_sampled)\n",
    "    y_pred = pd.Series(data= m.predict(test.iloc[:, :-1]), index = test.index, name = f'{s}_{n}')\n",
    "    predictions_v = predictions_v.merge(y_pred, how='outer', left_index=True, right_index=True)\n",
    "    tn, fp, fn, tp = confusion_matrix(test['ordered'], y_pred).ravel()\n",
    "    results = {\n",
    "               'model': n,\n",
    "               'F1': f1_score(test['ordered'], y_pred),\n",
    "               'log loss': log_loss(y_pred, y_pred),\n",
    "               'Accuracy': accuracy_score(test['ordered'], y_pred),\n",
    "#                'CV': np.mean(cross_val_score(m, test.iloc[:, :-1], test['ordered'], scoring='f1')),\n",
    "               'fp+fn': [tn, fp, fn, tp]}\n",
    "    print(f'{n}: {[tn, fp, fn, tp]}')\n",
    "    results_v = pd.concat([results_v, pd.DataFrame.from_dict([{'batch': s, **results}])], axis=0)\n",
    "\n",
    "predictions_v = predictions_v.merge(y, how='inner', left_index=True, right_index=True)"
   ]
  },
  {
   "cell_type": "code",
   "execution_count": null,
   "id": "df23e066",
   "metadata": {},
   "outputs": [],
   "source": []
  }
 ],
 "metadata": {
  "kernelspec": {
   "display_name": "ml",
   "language": "python",
   "name": "ml"
  },
  "language_info": {
   "codemirror_mode": {
    "name": "ipython",
    "version": 3
   },
   "file_extension": ".py",
   "mimetype": "text/x-python",
   "name": "python",
   "nbconvert_exporter": "python",
   "pygments_lexer": "ipython3",
   "version": "3.10.4"
  }
 },
 "nbformat": 4,
 "nbformat_minor": 5
}
